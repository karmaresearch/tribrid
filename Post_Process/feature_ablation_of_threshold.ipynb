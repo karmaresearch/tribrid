{
 "cells": [
  {
   "cell_type": "code",
   "execution_count": 163,
   "metadata": {},
   "outputs": [],
   "source": [
    "import pandas as pd"
   ]
  },
  {
   "cell_type": "markdown",
   "metadata": {},
   "source": [
    "## Triplet Bert Related Eval Results"
   ]
  },
  {
   "cell_type": "code",
   "execution_count": 164,
   "metadata": {},
   "outputs": [],
   "source": [
    "from sklearn.metrics import accuracy_score,f1_score,recall_score,precision_score"
   ]
  },
  {
   "cell_type": "markdown",
   "metadata": {},
   "source": [
    "# SCAR"
   ]
  },
  {
   "cell_type": "code",
   "execution_count": 165,
   "metadata": {},
   "outputs": [],
   "source": [
    "df = pd.read_csv(\"../Evaluation/pers_Trbrid_margin1_bs24_lr2e_5_epoch15_raw_score.csv\")"
   ]
  },
  {
   "cell_type": "code",
   "execution_count": 166,
   "metadata": {},
   "outputs": [
    {
     "data": {
      "text/html": [
       "<div>\n",
       "<style scoped>\n",
       "    .dataframe tbody tr th:only-of-type {\n",
       "        vertical-align: middle;\n",
       "    }\n",
       "\n",
       "    .dataframe tbody tr th {\n",
       "        vertical-align: top;\n",
       "    }\n",
       "\n",
       "    .dataframe thead th {\n",
       "        text-align: right;\n",
       "    }\n",
       "</style>\n",
       "<table border=\"1\" class=\"dataframe\">\n",
       "  <thead>\n",
       "    <tr style=\"text-align: right;\">\n",
       "      <th></th>\n",
       "      <th>undermine_score</th>\n",
       "      <th>support_score</th>\n",
       "      <th>cp_distance</th>\n",
       "      <th>cop_distance</th>\n",
       "      <th>predict_label</th>\n",
       "      <th>distance_label</th>\n",
       "      <th>gold</th>\n",
       "    </tr>\n",
       "  </thead>\n",
       "  <tbody>\n",
       "    <tr>\n",
       "      <th>0</th>\n",
       "      <td>-4.223587</td>\n",
       "      <td>3.430138</td>\n",
       "      <td>0.020014</td>\n",
       "      <td>0.012879</td>\n",
       "      <td>1</td>\n",
       "      <td>0</td>\n",
       "      <td>1</td>\n",
       "    </tr>\n",
       "    <tr>\n",
       "      <th>1</th>\n",
       "      <td>4.980137</td>\n",
       "      <td>-5.918371</td>\n",
       "      <td>1.923178</td>\n",
       "      <td>0.001339</td>\n",
       "      <td>0</td>\n",
       "      <td>0</td>\n",
       "      <td>0</td>\n",
       "    </tr>\n",
       "    <tr>\n",
       "      <th>2</th>\n",
       "      <td>-4.051531</td>\n",
       "      <td>3.098645</td>\n",
       "      <td>0.004558</td>\n",
       "      <td>0.010478</td>\n",
       "      <td>1</td>\n",
       "      <td>1</td>\n",
       "      <td>1</td>\n",
       "    </tr>\n",
       "    <tr>\n",
       "      <th>3</th>\n",
       "      <td>-1.659985</td>\n",
       "      <td>2.563246</td>\n",
       "      <td>0.277413</td>\n",
       "      <td>0.157976</td>\n",
       "      <td>1</td>\n",
       "      <td>0</td>\n",
       "      <td>1</td>\n",
       "    </tr>\n",
       "    <tr>\n",
       "      <th>4</th>\n",
       "      <td>-1.103358</td>\n",
       "      <td>5.317815</td>\n",
       "      <td>0.293655</td>\n",
       "      <td>1.842567</td>\n",
       "      <td>1</td>\n",
       "      <td>1</td>\n",
       "      <td>1</td>\n",
       "    </tr>\n",
       "    <tr>\n",
       "      <th>...</th>\n",
       "      <td>...</td>\n",
       "      <td>...</td>\n",
       "      <td>...</td>\n",
       "      <td>...</td>\n",
       "      <td>...</td>\n",
       "      <td>...</td>\n",
       "      <td>...</td>\n",
       "    </tr>\n",
       "    <tr>\n",
       "      <th>2522</th>\n",
       "      <td>2.155837</td>\n",
       "      <td>-1.537567</td>\n",
       "      <td>1.053408</td>\n",
       "      <td>0.922337</td>\n",
       "      <td>0</td>\n",
       "      <td>0</td>\n",
       "      <td>0</td>\n",
       "    </tr>\n",
       "    <tr>\n",
       "      <th>2523</th>\n",
       "      <td>6.712749</td>\n",
       "      <td>-5.522651</td>\n",
       "      <td>1.332932</td>\n",
       "      <td>0.112898</td>\n",
       "      <td>0</td>\n",
       "      <td>0</td>\n",
       "      <td>0</td>\n",
       "    </tr>\n",
       "    <tr>\n",
       "      <th>2524</th>\n",
       "      <td>-2.778294</td>\n",
       "      <td>2.587539</td>\n",
       "      <td>0.518143</td>\n",
       "      <td>1.368011</td>\n",
       "      <td>1</td>\n",
       "      <td>1</td>\n",
       "      <td>1</td>\n",
       "    </tr>\n",
       "    <tr>\n",
       "      <th>2525</th>\n",
       "      <td>-3.157147</td>\n",
       "      <td>3.050995</td>\n",
       "      <td>0.483791</td>\n",
       "      <td>1.372143</td>\n",
       "      <td>1</td>\n",
       "      <td>1</td>\n",
       "      <td>1</td>\n",
       "    </tr>\n",
       "    <tr>\n",
       "      <th>2526</th>\n",
       "      <td>0.692743</td>\n",
       "      <td>0.942525</td>\n",
       "      <td>0.609729</td>\n",
       "      <td>0.659963</td>\n",
       "      <td>1</td>\n",
       "      <td>1</td>\n",
       "      <td>1</td>\n",
       "    </tr>\n",
       "  </tbody>\n",
       "</table>\n",
       "<p>2527 rows × 7 columns</p>\n",
       "</div>"
      ],
      "text/plain": [
       "      undermine_score  support_score  cp_distance  cop_distance  \\\n",
       "0           -4.223587       3.430138     0.020014      0.012879   \n",
       "1            4.980137      -5.918371     1.923178      0.001339   \n",
       "2           -4.051531       3.098645     0.004558      0.010478   \n",
       "3           -1.659985       2.563246     0.277413      0.157976   \n",
       "4           -1.103358       5.317815     0.293655      1.842567   \n",
       "...               ...            ...          ...           ...   \n",
       "2522         2.155837      -1.537567     1.053408      0.922337   \n",
       "2523         6.712749      -5.522651     1.332932      0.112898   \n",
       "2524        -2.778294       2.587539     0.518143      1.368011   \n",
       "2525        -3.157147       3.050995     0.483791      1.372143   \n",
       "2526         0.692743       0.942525     0.609729      0.659963   \n",
       "\n",
       "      predict_label  distance_label  gold  \n",
       "0                 1               0     1  \n",
       "1                 0               0     0  \n",
       "2                 1               1     1  \n",
       "3                 1               0     1  \n",
       "4                 1               1     1  \n",
       "...             ...             ...   ...  \n",
       "2522              0               0     0  \n",
       "2523              0               0     0  \n",
       "2524              1               1     1  \n",
       "2525              1               1     1  \n",
       "2526              1               1     1  \n",
       "\n",
       "[2527 rows x 7 columns]"
      ]
     },
     "execution_count": 166,
     "metadata": {},
     "output_type": "execute_result"
    }
   ],
   "source": [
    "df"
   ]
  },
  {
   "cell_type": "markdown",
   "metadata": {},
   "source": [
    "# logits evaluation results"
   ]
  },
  {
   "cell_type": "code",
   "execution_count": 167,
   "metadata": {},
   "outputs": [
    {
     "data": {
      "text/plain": [
       "0.8033536585365854"
      ]
     },
     "execution_count": 167,
     "metadata": {},
     "output_type": "execute_result"
    }
   ],
   "source": [
    "f1_score(df.gold,df.predict_label)"
   ]
  },
  {
   "cell_type": "code",
   "execution_count": 168,
   "metadata": {},
   "outputs": [
    {
     "data": {
      "text/plain": [
       "0.8132716049382716"
      ]
     },
     "execution_count": 168,
     "metadata": {},
     "output_type": "execute_result"
    }
   ],
   "source": [
    "precision_score(df.gold,df.predict_label)"
   ]
  },
  {
   "cell_type": "code",
   "execution_count": 169,
   "metadata": {},
   "outputs": [
    {
     "data": {
      "text/plain": [
       "0.7936746987951807"
      ]
     },
     "execution_count": 169,
     "metadata": {},
     "output_type": "execute_result"
    }
   ],
   "source": [
    "recall_score(df.gold,df.predict_label)"
   ]
  },
  {
   "cell_type": "code",
   "execution_count": null,
   "metadata": {},
   "outputs": [],
   "source": []
  },
  {
   "cell_type": "markdown",
   "metadata": {},
   "source": [
    "# distance evaluation results"
   ]
  },
  {
   "cell_type": "code",
   "execution_count": 170,
   "metadata": {},
   "outputs": [
    {
     "data": {
      "text/plain": [
       "0.7849223946784921"
      ]
     },
     "execution_count": 170,
     "metadata": {},
     "output_type": "execute_result"
    }
   ],
   "source": [
    "f1_score(df.gold,df.distance_label)"
   ]
  },
  {
   "cell_type": "code",
   "execution_count": 171,
   "metadata": {},
   "outputs": [
    {
     "data": {
      "text/plain": [
       "0.7706821480406386"
      ]
     },
     "execution_count": 171,
     "metadata": {},
     "output_type": "execute_result"
    }
   ],
   "source": [
    "precision_score(df.gold,df.distance_label)"
   ]
  },
  {
   "cell_type": "code",
   "execution_count": 172,
   "metadata": {},
   "outputs": [
    {
     "data": {
      "text/plain": [
       "0.7996987951807228"
      ]
     },
     "execution_count": 172,
     "metadata": {},
     "output_type": "execute_result"
    }
   ],
   "source": [
    "recall_score(df.gold,df.distance_label)"
   ]
  },
  {
   "cell_type": "code",
   "execution_count": null,
   "metadata": {},
   "outputs": [],
   "source": []
  },
  {
   "cell_type": "markdown",
   "metadata": {},
   "source": [
    "# consistent cases (logtis prediction == distance prediction)"
   ]
  },
  {
   "cell_type": "code",
   "execution_count": 173,
   "metadata": {},
   "outputs": [],
   "source": [
    "df_consistency = df[df.predict_label==df.distance_label]"
   ]
  },
  {
   "cell_type": "code",
   "execution_count": 174,
   "metadata": {},
   "outputs": [
    {
     "data": {
      "text/html": [
       "<div>\n",
       "<style scoped>\n",
       "    .dataframe tbody tr th:only-of-type {\n",
       "        vertical-align: middle;\n",
       "    }\n",
       "\n",
       "    .dataframe tbody tr th {\n",
       "        vertical-align: top;\n",
       "    }\n",
       "\n",
       "    .dataframe thead th {\n",
       "        text-align: right;\n",
       "    }\n",
       "</style>\n",
       "<table border=\"1\" class=\"dataframe\">\n",
       "  <thead>\n",
       "    <tr style=\"text-align: right;\">\n",
       "      <th></th>\n",
       "      <th>undermine_score</th>\n",
       "      <th>support_score</th>\n",
       "      <th>cp_distance</th>\n",
       "      <th>cop_distance</th>\n",
       "      <th>predict_label</th>\n",
       "      <th>distance_label</th>\n",
       "      <th>gold</th>\n",
       "    </tr>\n",
       "  </thead>\n",
       "  <tbody>\n",
       "    <tr>\n",
       "      <th>1</th>\n",
       "      <td>4.980137</td>\n",
       "      <td>-5.918371</td>\n",
       "      <td>1.923178</td>\n",
       "      <td>0.001339</td>\n",
       "      <td>0</td>\n",
       "      <td>0</td>\n",
       "      <td>0</td>\n",
       "    </tr>\n",
       "    <tr>\n",
       "      <th>2</th>\n",
       "      <td>-4.051531</td>\n",
       "      <td>3.098645</td>\n",
       "      <td>0.004558</td>\n",
       "      <td>0.010478</td>\n",
       "      <td>1</td>\n",
       "      <td>1</td>\n",
       "      <td>1</td>\n",
       "    </tr>\n",
       "    <tr>\n",
       "      <th>4</th>\n",
       "      <td>-1.103358</td>\n",
       "      <td>5.317815</td>\n",
       "      <td>0.293655</td>\n",
       "      <td>1.842567</td>\n",
       "      <td>1</td>\n",
       "      <td>1</td>\n",
       "      <td>1</td>\n",
       "    </tr>\n",
       "    <tr>\n",
       "      <th>5</th>\n",
       "      <td>-2.957279</td>\n",
       "      <td>5.612340</td>\n",
       "      <td>0.010343</td>\n",
       "      <td>1.754936</td>\n",
       "      <td>1</td>\n",
       "      <td>1</td>\n",
       "      <td>1</td>\n",
       "    </tr>\n",
       "    <tr>\n",
       "      <th>6</th>\n",
       "      <td>-2.915035</td>\n",
       "      <td>5.855358</td>\n",
       "      <td>0.004241</td>\n",
       "      <td>1.868177</td>\n",
       "      <td>1</td>\n",
       "      <td>1</td>\n",
       "      <td>1</td>\n",
       "    </tr>\n",
       "    <tr>\n",
       "      <th>...</th>\n",
       "      <td>...</td>\n",
       "      <td>...</td>\n",
       "      <td>...</td>\n",
       "      <td>...</td>\n",
       "      <td>...</td>\n",
       "      <td>...</td>\n",
       "      <td>...</td>\n",
       "    </tr>\n",
       "    <tr>\n",
       "      <th>2522</th>\n",
       "      <td>2.155837</td>\n",
       "      <td>-1.537567</td>\n",
       "      <td>1.053408</td>\n",
       "      <td>0.922337</td>\n",
       "      <td>0</td>\n",
       "      <td>0</td>\n",
       "      <td>0</td>\n",
       "    </tr>\n",
       "    <tr>\n",
       "      <th>2523</th>\n",
       "      <td>6.712749</td>\n",
       "      <td>-5.522651</td>\n",
       "      <td>1.332932</td>\n",
       "      <td>0.112898</td>\n",
       "      <td>0</td>\n",
       "      <td>0</td>\n",
       "      <td>0</td>\n",
       "    </tr>\n",
       "    <tr>\n",
       "      <th>2524</th>\n",
       "      <td>-2.778294</td>\n",
       "      <td>2.587539</td>\n",
       "      <td>0.518143</td>\n",
       "      <td>1.368011</td>\n",
       "      <td>1</td>\n",
       "      <td>1</td>\n",
       "      <td>1</td>\n",
       "    </tr>\n",
       "    <tr>\n",
       "      <th>2525</th>\n",
       "      <td>-3.157147</td>\n",
       "      <td>3.050995</td>\n",
       "      <td>0.483791</td>\n",
       "      <td>1.372143</td>\n",
       "      <td>1</td>\n",
       "      <td>1</td>\n",
       "      <td>1</td>\n",
       "    </tr>\n",
       "    <tr>\n",
       "      <th>2526</th>\n",
       "      <td>0.692743</td>\n",
       "      <td>0.942525</td>\n",
       "      <td>0.609729</td>\n",
       "      <td>0.659963</td>\n",
       "      <td>1</td>\n",
       "      <td>1</td>\n",
       "      <td>1</td>\n",
       "    </tr>\n",
       "  </tbody>\n",
       "</table>\n",
       "<p>2189 rows × 7 columns</p>\n",
       "</div>"
      ],
      "text/plain": [
       "      undermine_score  support_score  cp_distance  cop_distance  \\\n",
       "1            4.980137      -5.918371     1.923178      0.001339   \n",
       "2           -4.051531       3.098645     0.004558      0.010478   \n",
       "4           -1.103358       5.317815     0.293655      1.842567   \n",
       "5           -2.957279       5.612340     0.010343      1.754936   \n",
       "6           -2.915035       5.855358     0.004241      1.868177   \n",
       "...               ...            ...          ...           ...   \n",
       "2522         2.155837      -1.537567     1.053408      0.922337   \n",
       "2523         6.712749      -5.522651     1.332932      0.112898   \n",
       "2524        -2.778294       2.587539     0.518143      1.368011   \n",
       "2525        -3.157147       3.050995     0.483791      1.372143   \n",
       "2526         0.692743       0.942525     0.609729      0.659963   \n",
       "\n",
       "      predict_label  distance_label  gold  \n",
       "1                 0               0     0  \n",
       "2                 1               1     1  \n",
       "4                 1               1     1  \n",
       "5                 1               1     1  \n",
       "6                 1               1     1  \n",
       "...             ...             ...   ...  \n",
       "2522              0               0     0  \n",
       "2523              0               0     0  \n",
       "2524              1               1     1  \n",
       "2525              1               1     1  \n",
       "2526              1               1     1  \n",
       "\n",
       "[2189 rows x 7 columns]"
      ]
     },
     "execution_count": 174,
     "metadata": {},
     "output_type": "execute_result"
    }
   ],
   "source": [
    "df_consistency"
   ]
  },
  {
   "cell_type": "code",
   "execution_count": 175,
   "metadata": {},
   "outputs": [
    {
     "data": {
      "text/plain": [
       "0.8353552859618716"
      ]
     },
     "execution_count": 175,
     "metadata": {},
     "output_type": "execute_result"
    }
   ],
   "source": [
    "f1_score(df_consistency.gold,df_consistency.distance_label)"
   ]
  },
  {
   "cell_type": "code",
   "execution_count": 176,
   "metadata": {},
   "outputs": [
    {
     "data": {
      "text/plain": [
       "0.8253424657534246"
      ]
     },
     "execution_count": 176,
     "metadata": {},
     "output_type": "execute_result"
    }
   ],
   "source": [
    "precision_score(df_consistency.gold,df_consistency.distance_label)"
   ]
  },
  {
   "cell_type": "code",
   "execution_count": 177,
   "metadata": {},
   "outputs": [
    {
     "data": {
      "text/plain": [
       "0.8456140350877193"
      ]
     },
     "execution_count": 177,
     "metadata": {},
     "output_type": "execute_result"
    }
   ],
   "source": [
    "recall_score(df_consistency.gold,df_consistency.distance_label)"
   ]
  },
  {
   "cell_type": "markdown",
   "metadata": {},
   "source": [
    "# Logits experiments of consistent cases"
   ]
  },
  {
   "cell_type": "code",
   "execution_count": 178,
   "metadata": {},
   "outputs": [
    {
     "data": {
      "text/html": [
       "<div>\n",
       "<style scoped>\n",
       "    .dataframe tbody tr th:only-of-type {\n",
       "        vertical-align: middle;\n",
       "    }\n",
       "\n",
       "    .dataframe tbody tr th {\n",
       "        vertical-align: top;\n",
       "    }\n",
       "\n",
       "    .dataframe thead th {\n",
       "        text-align: right;\n",
       "    }\n",
       "</style>\n",
       "<table border=\"1\" class=\"dataframe\">\n",
       "  <thead>\n",
       "    <tr style=\"text-align: right;\">\n",
       "      <th></th>\n",
       "      <th>undermine_score</th>\n",
       "      <th>support_score</th>\n",
       "      <th>cp_distance</th>\n",
       "      <th>cop_distance</th>\n",
       "      <th>predict_label</th>\n",
       "      <th>distance_label</th>\n",
       "      <th>gold</th>\n",
       "    </tr>\n",
       "  </thead>\n",
       "  <tbody>\n",
       "    <tr>\n",
       "      <th>56</th>\n",
       "      <td>-6.740227</td>\n",
       "      <td>6.935597</td>\n",
       "      <td>0.017248</td>\n",
       "      <td>1.656932</td>\n",
       "      <td>1</td>\n",
       "      <td>1</td>\n",
       "      <td>1</td>\n",
       "    </tr>\n",
       "    <tr>\n",
       "      <th>82</th>\n",
       "      <td>-6.699821</td>\n",
       "      <td>6.198657</td>\n",
       "      <td>0.017356</td>\n",
       "      <td>1.790910</td>\n",
       "      <td>1</td>\n",
       "      <td>1</td>\n",
       "      <td>1</td>\n",
       "    </tr>\n",
       "    <tr>\n",
       "      <th>176</th>\n",
       "      <td>7.776163</td>\n",
       "      <td>-5.735231</td>\n",
       "      <td>1.865803</td>\n",
       "      <td>0.175052</td>\n",
       "      <td>0</td>\n",
       "      <td>0</td>\n",
       "      <td>0</td>\n",
       "    </tr>\n",
       "    <tr>\n",
       "      <th>178</th>\n",
       "      <td>8.175444</td>\n",
       "      <td>-6.853647</td>\n",
       "      <td>1.905149</td>\n",
       "      <td>0.082175</td>\n",
       "      <td>0</td>\n",
       "      <td>0</td>\n",
       "      <td>0</td>\n",
       "    </tr>\n",
       "    <tr>\n",
       "      <th>179</th>\n",
       "      <td>7.822188</td>\n",
       "      <td>-5.983000</td>\n",
       "      <td>1.871615</td>\n",
       "      <td>0.071257</td>\n",
       "      <td>0</td>\n",
       "      <td>0</td>\n",
       "      <td>0</td>\n",
       "    </tr>\n",
       "    <tr>\n",
       "      <th>...</th>\n",
       "      <td>...</td>\n",
       "      <td>...</td>\n",
       "      <td>...</td>\n",
       "      <td>...</td>\n",
       "      <td>...</td>\n",
       "      <td>...</td>\n",
       "      <td>...</td>\n",
       "    </tr>\n",
       "    <tr>\n",
       "      <th>2516</th>\n",
       "      <td>7.405044</td>\n",
       "      <td>-6.452584</td>\n",
       "      <td>1.447262</td>\n",
       "      <td>0.201506</td>\n",
       "      <td>0</td>\n",
       "      <td>0</td>\n",
       "      <td>0</td>\n",
       "    </tr>\n",
       "    <tr>\n",
       "      <th>2517</th>\n",
       "      <td>6.648351</td>\n",
       "      <td>-6.019004</td>\n",
       "      <td>1.416802</td>\n",
       "      <td>0.236846</td>\n",
       "      <td>0</td>\n",
       "      <td>0</td>\n",
       "      <td>0</td>\n",
       "    </tr>\n",
       "    <tr>\n",
       "      <th>2518</th>\n",
       "      <td>6.778597</td>\n",
       "      <td>-5.306126</td>\n",
       "      <td>1.339745</td>\n",
       "      <td>0.412176</td>\n",
       "      <td>0</td>\n",
       "      <td>0</td>\n",
       "      <td>0</td>\n",
       "    </tr>\n",
       "    <tr>\n",
       "      <th>2520</th>\n",
       "      <td>7.552144</td>\n",
       "      <td>-6.467586</td>\n",
       "      <td>1.450673</td>\n",
       "      <td>0.491035</td>\n",
       "      <td>0</td>\n",
       "      <td>0</td>\n",
       "      <td>0</td>\n",
       "    </tr>\n",
       "    <tr>\n",
       "      <th>2523</th>\n",
       "      <td>6.712749</td>\n",
       "      <td>-5.522651</td>\n",
       "      <td>1.332932</td>\n",
       "      <td>0.112898</td>\n",
       "      <td>0</td>\n",
       "      <td>0</td>\n",
       "      <td>0</td>\n",
       "    </tr>\n",
       "  </tbody>\n",
       "</table>\n",
       "<p>441 rows × 7 columns</p>\n",
       "</div>"
      ],
      "text/plain": [
       "      undermine_score  support_score  cp_distance  cop_distance  \\\n",
       "56          -6.740227       6.935597     0.017248      1.656932   \n",
       "82          -6.699821       6.198657     0.017356      1.790910   \n",
       "176          7.776163      -5.735231     1.865803      0.175052   \n",
       "178          8.175444      -6.853647     1.905149      0.082175   \n",
       "179          7.822188      -5.983000     1.871615      0.071257   \n",
       "...               ...            ...          ...           ...   \n",
       "2516         7.405044      -6.452584     1.447262      0.201506   \n",
       "2517         6.648351      -6.019004     1.416802      0.236846   \n",
       "2518         6.778597      -5.306126     1.339745      0.412176   \n",
       "2520         7.552144      -6.467586     1.450673      0.491035   \n",
       "2523         6.712749      -5.522651     1.332932      0.112898   \n",
       "\n",
       "      predict_label  distance_label  gold  \n",
       "56                1               1     1  \n",
       "82                1               1     1  \n",
       "176               0               0     0  \n",
       "178               0               0     0  \n",
       "179               0               0     0  \n",
       "...             ...             ...   ...  \n",
       "2516              0               0     0  \n",
       "2517              0               0     0  \n",
       "2518              0               0     0  \n",
       "2520              0               0     0  \n",
       "2523              0               0     0  \n",
       "\n",
       "[441 rows x 7 columns]"
      ]
     },
     "execution_count": 178,
     "metadata": {},
     "output_type": "execute_result"
    }
   ],
   "source": [
    "df_logits_diff = df_consistency[abs(df_consistency.undermine_score-df_consistency.support_score)>11.7]\n",
    "df_logits_diff"
   ]
  },
  {
   "cell_type": "code",
   "execution_count": 179,
   "metadata": {},
   "outputs": [
    {
     "data": {
      "text/plain": [
       "0.8676470588235294"
      ]
     },
     "execution_count": 179,
     "metadata": {},
     "output_type": "execute_result"
    }
   ],
   "source": [
    "f1_score(df_logits_diff.gold,df_logits_diff.distance_label)"
   ]
  },
  {
   "cell_type": "code",
   "execution_count": 180,
   "metadata": {},
   "outputs": [
    {
     "data": {
      "text/plain": [
       "0.9365079365079365"
      ]
     },
     "execution_count": 180,
     "metadata": {},
     "output_type": "execute_result"
    }
   ],
   "source": [
    "precision_score(df_logits_diff.gold,df_logits_diff.distance_label)"
   ]
  },
  {
   "cell_type": "code",
   "execution_count": 181,
   "metadata": {},
   "outputs": [
    {
     "data": {
      "text/plain": [
       "0.8082191780821918"
      ]
     },
     "execution_count": 181,
     "metadata": {},
     "output_type": "execute_result"
    }
   ],
   "source": [
    "recall_score(df_logits_diff.gold,df_logits_diff.distance_label)"
   ]
  },
  {
   "cell_type": "markdown",
   "metadata": {},
   "source": [
    "# Distance experiments of consistent cases"
   ]
  },
  {
   "cell_type": "code",
   "execution_count": 182,
   "metadata": {},
   "outputs": [
    {
     "data": {
      "text/html": [
       "<div>\n",
       "<style scoped>\n",
       "    .dataframe tbody tr th:only-of-type {\n",
       "        vertical-align: middle;\n",
       "    }\n",
       "\n",
       "    .dataframe tbody tr th {\n",
       "        vertical-align: top;\n",
       "    }\n",
       "\n",
       "    .dataframe thead th {\n",
       "        text-align: right;\n",
       "    }\n",
       "</style>\n",
       "<table border=\"1\" class=\"dataframe\">\n",
       "  <thead>\n",
       "    <tr style=\"text-align: right;\">\n",
       "      <th></th>\n",
       "      <th>undermine_score</th>\n",
       "      <th>support_score</th>\n",
       "      <th>cp_distance</th>\n",
       "      <th>cop_distance</th>\n",
       "      <th>predict_label</th>\n",
       "      <th>distance_label</th>\n",
       "      <th>gold</th>\n",
       "    </tr>\n",
       "  </thead>\n",
       "  <tbody>\n",
       "    <tr>\n",
       "      <th>1</th>\n",
       "      <td>4.980137</td>\n",
       "      <td>-5.918371</td>\n",
       "      <td>1.923178</td>\n",
       "      <td>0.001339</td>\n",
       "      <td>0</td>\n",
       "      <td>0</td>\n",
       "      <td>0</td>\n",
       "    </tr>\n",
       "    <tr>\n",
       "      <th>14</th>\n",
       "      <td>4.973082</td>\n",
       "      <td>-5.446892</td>\n",
       "      <td>1.975014</td>\n",
       "      <td>0.038279</td>\n",
       "      <td>0</td>\n",
       "      <td>0</td>\n",
       "      <td>0</td>\n",
       "    </tr>\n",
       "    <tr>\n",
       "      <th>22</th>\n",
       "      <td>-2.595918</td>\n",
       "      <td>5.513531</td>\n",
       "      <td>0.011529</td>\n",
       "      <td>1.970146</td>\n",
       "      <td>1</td>\n",
       "      <td>1</td>\n",
       "      <td>1</td>\n",
       "    </tr>\n",
       "    <tr>\n",
       "      <th>27</th>\n",
       "      <td>-2.784658</td>\n",
       "      <td>5.825409</td>\n",
       "      <td>0.007447</td>\n",
       "      <td>1.957864</td>\n",
       "      <td>1</td>\n",
       "      <td>1</td>\n",
       "      <td>1</td>\n",
       "    </tr>\n",
       "    <tr>\n",
       "      <th>28</th>\n",
       "      <td>-2.574459</td>\n",
       "      <td>5.599093</td>\n",
       "      <td>0.028452</td>\n",
       "      <td>1.954338</td>\n",
       "      <td>1</td>\n",
       "      <td>1</td>\n",
       "      <td>1</td>\n",
       "    </tr>\n",
       "    <tr>\n",
       "      <th>...</th>\n",
       "      <td>...</td>\n",
       "      <td>...</td>\n",
       "      <td>...</td>\n",
       "      <td>...</td>\n",
       "      <td>...</td>\n",
       "      <td>...</td>\n",
       "      <td>...</td>\n",
       "    </tr>\n",
       "    <tr>\n",
       "      <th>2485</th>\n",
       "      <td>5.284534</td>\n",
       "      <td>-5.954888</td>\n",
       "      <td>1.962560</td>\n",
       "      <td>0.002266</td>\n",
       "      <td>0</td>\n",
       "      <td>0</td>\n",
       "      <td>0</td>\n",
       "    </tr>\n",
       "    <tr>\n",
       "      <th>2486</th>\n",
       "      <td>4.911831</td>\n",
       "      <td>-5.589746</td>\n",
       "      <td>1.951874</td>\n",
       "      <td>0.001502</td>\n",
       "      <td>0</td>\n",
       "      <td>0</td>\n",
       "      <td>0</td>\n",
       "    </tr>\n",
       "    <tr>\n",
       "      <th>2490</th>\n",
       "      <td>-2.891952</td>\n",
       "      <td>5.763986</td>\n",
       "      <td>0.001604</td>\n",
       "      <td>1.929383</td>\n",
       "      <td>1</td>\n",
       "      <td>1</td>\n",
       "      <td>1</td>\n",
       "    </tr>\n",
       "    <tr>\n",
       "      <th>2491</th>\n",
       "      <td>-2.285798</td>\n",
       "      <td>5.668227</td>\n",
       "      <td>0.008553</td>\n",
       "      <td>1.960932</td>\n",
       "      <td>1</td>\n",
       "      <td>1</td>\n",
       "      <td>1</td>\n",
       "    </tr>\n",
       "    <tr>\n",
       "      <th>2493</th>\n",
       "      <td>-2.277760</td>\n",
       "      <td>5.606550</td>\n",
       "      <td>0.010047</td>\n",
       "      <td>1.973817</td>\n",
       "      <td>1</td>\n",
       "      <td>1</td>\n",
       "      <td>1</td>\n",
       "    </tr>\n",
       "  </tbody>\n",
       "</table>\n",
       "<p>354 rows × 7 columns</p>\n",
       "</div>"
      ],
      "text/plain": [
       "      undermine_score  support_score  cp_distance  cop_distance  \\\n",
       "1            4.980137      -5.918371     1.923178      0.001339   \n",
       "14           4.973082      -5.446892     1.975014      0.038279   \n",
       "22          -2.595918       5.513531     0.011529      1.970146   \n",
       "27          -2.784658       5.825409     0.007447      1.957864   \n",
       "28          -2.574459       5.599093     0.028452      1.954338   \n",
       "...               ...            ...          ...           ...   \n",
       "2485         5.284534      -5.954888     1.962560      0.002266   \n",
       "2486         4.911831      -5.589746     1.951874      0.001502   \n",
       "2490        -2.891952       5.763986     0.001604      1.929383   \n",
       "2491        -2.285798       5.668227     0.008553      1.960932   \n",
       "2493        -2.277760       5.606550     0.010047      1.973817   \n",
       "\n",
       "      predict_label  distance_label  gold  \n",
       "1                 0               0     0  \n",
       "14                0               0     0  \n",
       "22                1               1     1  \n",
       "27                1               1     1  \n",
       "28                1               1     1  \n",
       "...             ...             ...   ...  \n",
       "2485              0               0     0  \n",
       "2486              0               0     0  \n",
       "2490              1               1     1  \n",
       "2491              1               1     1  \n",
       "2493              1               1     1  \n",
       "\n",
       "[354 rows x 7 columns]"
      ]
     },
     "execution_count": 182,
     "metadata": {},
     "output_type": "execute_result"
    }
   ],
   "source": [
    "df_distance_diff = df_consistency[abs(df_consistency.cp_distance-df_consistency.cop_distance)>1.9]\n",
    "df_distance_diff"
   ]
  },
  {
   "cell_type": "code",
   "execution_count": 183,
   "metadata": {},
   "outputs": [
    {
     "data": {
      "text/plain": [
       "0.9526066350710901"
      ]
     },
     "execution_count": 183,
     "metadata": {},
     "output_type": "execute_result"
    }
   ],
   "source": [
    "f1_score(df_distance_diff.gold,df_distance_diff.distance_label)"
   ]
  },
  {
   "cell_type": "code",
   "execution_count": 184,
   "metadata": {},
   "outputs": [
    {
     "data": {
      "text/plain": [
       "0.9262672811059908"
      ]
     },
     "execution_count": 184,
     "metadata": {},
     "output_type": "execute_result"
    }
   ],
   "source": [
    "precision_score(df_distance_diff.gold,df_distance_diff.distance_label)"
   ]
  },
  {
   "cell_type": "code",
   "execution_count": 185,
   "metadata": {},
   "outputs": [
    {
     "data": {
      "text/plain": [
       "0.9804878048780488"
      ]
     },
     "execution_count": 185,
     "metadata": {},
     "output_type": "execute_result"
    }
   ],
   "source": [
    "recall_score(df_distance_diff.gold,df_distance_diff.distance_label)"
   ]
  },
  {
   "cell_type": "code",
   "execution_count": null,
   "metadata": {},
   "outputs": [],
   "source": []
  },
  {
   "cell_type": "markdown",
   "metadata": {},
   "source": [
    "# the whole cases"
   ]
  },
  {
   "cell_type": "code",
   "execution_count": 186,
   "metadata": {},
   "outputs": [],
   "source": [
    "df_inconsistency = df"
   ]
  },
  {
   "cell_type": "code",
   "execution_count": 187,
   "metadata": {},
   "outputs": [],
   "source": [
    "df_consistency = df[df.predict_label==df.distance_label]"
   ]
  },
  {
   "cell_type": "code",
   "execution_count": 188,
   "metadata": {},
   "outputs": [
    {
     "data": {
      "text/html": [
       "<div>\n",
       "<style scoped>\n",
       "    .dataframe tbody tr th:only-of-type {\n",
       "        vertical-align: middle;\n",
       "    }\n",
       "\n",
       "    .dataframe tbody tr th {\n",
       "        vertical-align: top;\n",
       "    }\n",
       "\n",
       "    .dataframe thead th {\n",
       "        text-align: right;\n",
       "    }\n",
       "</style>\n",
       "<table border=\"1\" class=\"dataframe\">\n",
       "  <thead>\n",
       "    <tr style=\"text-align: right;\">\n",
       "      <th></th>\n",
       "      <th>undermine_score</th>\n",
       "      <th>support_score</th>\n",
       "      <th>cp_distance</th>\n",
       "      <th>cop_distance</th>\n",
       "      <th>predict_label</th>\n",
       "      <th>distance_label</th>\n",
       "      <th>gold</th>\n",
       "    </tr>\n",
       "  </thead>\n",
       "  <tbody>\n",
       "    <tr>\n",
       "      <th>0</th>\n",
       "      <td>-4.223587</td>\n",
       "      <td>3.430138</td>\n",
       "      <td>0.020014</td>\n",
       "      <td>0.012879</td>\n",
       "      <td>1</td>\n",
       "      <td>0</td>\n",
       "      <td>1</td>\n",
       "    </tr>\n",
       "    <tr>\n",
       "      <th>1</th>\n",
       "      <td>4.980137</td>\n",
       "      <td>-5.918371</td>\n",
       "      <td>1.923178</td>\n",
       "      <td>0.001339</td>\n",
       "      <td>0</td>\n",
       "      <td>0</td>\n",
       "      <td>0</td>\n",
       "    </tr>\n",
       "    <tr>\n",
       "      <th>2</th>\n",
       "      <td>-4.051531</td>\n",
       "      <td>3.098645</td>\n",
       "      <td>0.004558</td>\n",
       "      <td>0.010478</td>\n",
       "      <td>1</td>\n",
       "      <td>1</td>\n",
       "      <td>1</td>\n",
       "    </tr>\n",
       "    <tr>\n",
       "      <th>3</th>\n",
       "      <td>-1.659985</td>\n",
       "      <td>2.563246</td>\n",
       "      <td>0.277413</td>\n",
       "      <td>0.157976</td>\n",
       "      <td>1</td>\n",
       "      <td>0</td>\n",
       "      <td>1</td>\n",
       "    </tr>\n",
       "    <tr>\n",
       "      <th>4</th>\n",
       "      <td>-1.103358</td>\n",
       "      <td>5.317815</td>\n",
       "      <td>0.293655</td>\n",
       "      <td>1.842567</td>\n",
       "      <td>1</td>\n",
       "      <td>1</td>\n",
       "      <td>1</td>\n",
       "    </tr>\n",
       "    <tr>\n",
       "      <th>...</th>\n",
       "      <td>...</td>\n",
       "      <td>...</td>\n",
       "      <td>...</td>\n",
       "      <td>...</td>\n",
       "      <td>...</td>\n",
       "      <td>...</td>\n",
       "      <td>...</td>\n",
       "    </tr>\n",
       "    <tr>\n",
       "      <th>2522</th>\n",
       "      <td>2.155837</td>\n",
       "      <td>-1.537567</td>\n",
       "      <td>1.053408</td>\n",
       "      <td>0.922337</td>\n",
       "      <td>0</td>\n",
       "      <td>0</td>\n",
       "      <td>0</td>\n",
       "    </tr>\n",
       "    <tr>\n",
       "      <th>2523</th>\n",
       "      <td>6.712749</td>\n",
       "      <td>-5.522651</td>\n",
       "      <td>1.332932</td>\n",
       "      <td>0.112898</td>\n",
       "      <td>0</td>\n",
       "      <td>0</td>\n",
       "      <td>0</td>\n",
       "    </tr>\n",
       "    <tr>\n",
       "      <th>2524</th>\n",
       "      <td>-2.778294</td>\n",
       "      <td>2.587539</td>\n",
       "      <td>0.518143</td>\n",
       "      <td>1.368011</td>\n",
       "      <td>1</td>\n",
       "      <td>1</td>\n",
       "      <td>1</td>\n",
       "    </tr>\n",
       "    <tr>\n",
       "      <th>2525</th>\n",
       "      <td>-3.157147</td>\n",
       "      <td>3.050995</td>\n",
       "      <td>0.483791</td>\n",
       "      <td>1.372143</td>\n",
       "      <td>1</td>\n",
       "      <td>1</td>\n",
       "      <td>1</td>\n",
       "    </tr>\n",
       "    <tr>\n",
       "      <th>2526</th>\n",
       "      <td>0.692743</td>\n",
       "      <td>0.942525</td>\n",
       "      <td>0.609729</td>\n",
       "      <td>0.659963</td>\n",
       "      <td>1</td>\n",
       "      <td>1</td>\n",
       "      <td>1</td>\n",
       "    </tr>\n",
       "  </tbody>\n",
       "</table>\n",
       "<p>2527 rows × 7 columns</p>\n",
       "</div>"
      ],
      "text/plain": [
       "      undermine_score  support_score  cp_distance  cop_distance  \\\n",
       "0           -4.223587       3.430138     0.020014      0.012879   \n",
       "1            4.980137      -5.918371     1.923178      0.001339   \n",
       "2           -4.051531       3.098645     0.004558      0.010478   \n",
       "3           -1.659985       2.563246     0.277413      0.157976   \n",
       "4           -1.103358       5.317815     0.293655      1.842567   \n",
       "...               ...            ...          ...           ...   \n",
       "2522         2.155837      -1.537567     1.053408      0.922337   \n",
       "2523         6.712749      -5.522651     1.332932      0.112898   \n",
       "2524        -2.778294       2.587539     0.518143      1.368011   \n",
       "2525        -3.157147       3.050995     0.483791      1.372143   \n",
       "2526         0.692743       0.942525     0.609729      0.659963   \n",
       "\n",
       "      predict_label  distance_label  gold  \n",
       "0                 1               0     1  \n",
       "1                 0               0     0  \n",
       "2                 1               1     1  \n",
       "3                 1               0     1  \n",
       "4                 1               1     1  \n",
       "...             ...             ...   ...  \n",
       "2522              0               0     0  \n",
       "2523              0               0     0  \n",
       "2524              1               1     1  \n",
       "2525              1               1     1  \n",
       "2526              1               1     1  \n",
       "\n",
       "[2527 rows x 7 columns]"
      ]
     },
     "execution_count": 188,
     "metadata": {},
     "output_type": "execute_result"
    }
   ],
   "source": [
    "df_inconsistency"
   ]
  },
  {
   "cell_type": "code",
   "execution_count": null,
   "metadata": {},
   "outputs": [],
   "source": []
  },
  {
   "cell_type": "markdown",
   "metadata": {},
   "source": [
    "# Consistent cases"
   ]
  },
  {
   "cell_type": "code",
   "execution_count": 189,
   "metadata": {},
   "outputs": [],
   "source": [
    "#consistent cases analysis"
   ]
  },
  {
   "cell_type": "code",
   "execution_count": 190,
   "metadata": {},
   "outputs": [
    {
     "data": {
      "text/plain": [
       "8.884409999999999"
      ]
     },
     "execution_count": 190,
     "metadata": {},
     "output_type": "execute_result"
    }
   ],
   "source": [
    "consistent_logits_median = abs(df_consistency.undermine_score-df_consistency.support_score).median()\n",
    "consistent_logits_median"
   ]
  },
  {
   "cell_type": "code",
   "execution_count": 191,
   "metadata": {},
   "outputs": [
    {
     "data": {
      "text/plain": [
       "9.326155330841113"
      ]
     },
     "execution_count": 191,
     "metadata": {},
     "output_type": "execute_result"
    }
   ],
   "source": [
    "consistent_logits_mean = abs(df_consistency.undermine_score-df_consistency.support_score).mean()\n",
    "consistent_logits_mean"
   ]
  },
  {
   "cell_type": "code",
   "execution_count": 192,
   "metadata": {},
   "outputs": [
    {
     "data": {
      "text/plain": [
       "23.471"
      ]
     },
     "execution_count": 192,
     "metadata": {},
     "output_type": "execute_result"
    }
   ],
   "source": [
    "consistent_logits_max =abs(df_consistency.undermine_score-df_consistency.support_score).max()\n",
    "consistent_logits_max"
   ]
  },
  {
   "cell_type": "code",
   "execution_count": 193,
   "metadata": {},
   "outputs": [
    {
     "data": {
      "text/plain": [
       "0.018043279999999995"
      ]
     },
     "execution_count": 193,
     "metadata": {},
     "output_type": "execute_result"
    }
   ],
   "source": [
    "consistent_logits_min = abs(df_consistency.undermine_score-df_consistency.support_score).min()\n",
    "consistent_logits_min"
   ]
  },
  {
   "cell_type": "code",
   "execution_count": null,
   "metadata": {},
   "outputs": [],
   "source": []
  },
  {
   "cell_type": "code",
   "execution_count": 194,
   "metadata": {},
   "outputs": [
    {
     "data": {
      "text/plain": [
       "1.5762243029999998"
      ]
     },
     "execution_count": 194,
     "metadata": {},
     "output_type": "execute_result"
    }
   ],
   "source": [
    "consistent_distance_median = abs(df_consistency.cp_distance-df_consistency.cop_distance).median()\n",
    "consistent_distance_median"
   ]
  },
  {
   "cell_type": "code",
   "execution_count": 195,
   "metadata": {},
   "outputs": [
    {
     "data": {
      "text/plain": [
       "1.298490790877556"
      ]
     },
     "execution_count": 195,
     "metadata": {},
     "output_type": "execute_result"
    }
   ],
   "source": [
    "consistent_distance_mean = abs(df_consistency.cp_distance-df_consistency.cop_distance).mean()\n",
    "consistent_distance_mean "
   ]
  },
  {
   "cell_type": "code",
   "execution_count": 196,
   "metadata": {},
   "outputs": [
    {
     "data": {
      "text/plain": [
       "1.9834033666000002"
      ]
     },
     "execution_count": 196,
     "metadata": {},
     "output_type": "execute_result"
    }
   ],
   "source": [
    "consistent_distance_max = abs(df_consistency.cp_distance-df_consistency.cop_distance).max()\n",
    "consistent_distance_max"
   ]
  },
  {
   "cell_type": "code",
   "execution_count": 197,
   "metadata": {},
   "outputs": [
    {
     "data": {
      "text/plain": [
       "0.00021850000000001035"
      ]
     },
     "execution_count": 197,
     "metadata": {},
     "output_type": "execute_result"
    }
   ],
   "source": [
    "consistent_distance_min = abs(df_consistency.cp_distance-df_consistency.cop_distance).min()\n",
    "consistent_distance_min"
   ]
  },
  {
   "cell_type": "code",
   "execution_count": null,
   "metadata": {},
   "outputs": [],
   "source": []
  },
  {
   "cell_type": "markdown",
   "metadata": {},
   "source": [
    "# all cases analysis"
   ]
  },
  {
   "cell_type": "code",
   "execution_count": 198,
   "metadata": {},
   "outputs": [
    {
     "data": {
      "text/plain": [
       "8.583245699999999"
      ]
     },
     "execution_count": 198,
     "metadata": {},
     "output_type": "execute_result"
    }
   ],
   "source": [
    "inconsistent_logits_median = abs(df_inconsistency.undermine_score-df_inconsistency.support_score).median()\n",
    "inconsistent_logits_median"
   ]
  },
  {
   "cell_type": "code",
   "execution_count": 199,
   "metadata": {},
   "outputs": [
    {
     "data": {
      "text/plain": [
       "8.835066144437594"
      ]
     },
     "execution_count": 199,
     "metadata": {},
     "output_type": "execute_result"
    }
   ],
   "source": [
    "inconsistent_logits_mean = abs(df_inconsistency.undermine_score-df_inconsistency.support_score).mean()\n",
    "inconsistent_logits_mean"
   ]
  },
  {
   "cell_type": "code",
   "execution_count": 200,
   "metadata": {},
   "outputs": [
    {
     "data": {
      "text/plain": [
       "23.471"
      ]
     },
     "execution_count": 200,
     "metadata": {},
     "output_type": "execute_result"
    }
   ],
   "source": [
    "inconsistent_logits_max = abs(df_inconsistency.undermine_score-df_inconsistency.support_score).max()\n",
    "inconsistent_logits_max"
   ]
  },
  {
   "cell_type": "code",
   "execution_count": 201,
   "metadata": {},
   "outputs": [
    {
     "data": {
      "text/plain": [
       "0.009783112999999996"
      ]
     },
     "execution_count": 201,
     "metadata": {},
     "output_type": "execute_result"
    }
   ],
   "source": [
    "inconsistent_logits_min = abs(df_inconsistency.undermine_score-df_inconsistency.support_score).min()\n",
    "inconsistent_logits_min"
   ]
  },
  {
   "cell_type": "code",
   "execution_count": null,
   "metadata": {},
   "outputs": [],
   "source": []
  },
  {
   "cell_type": "code",
   "execution_count": 202,
   "metadata": {},
   "outputs": [
    {
     "data": {
      "text/plain": [
       "1.4037365"
      ]
     },
     "execution_count": 202,
     "metadata": {},
     "output_type": "execute_result"
    }
   ],
   "source": [
    "inconsistent_distance_median = abs(df_inconsistency.cp_distance-df_inconsistency.cop_distance).median()\n",
    "inconsistent_distance_median"
   ]
  },
  {
   "cell_type": "code",
   "execution_count": 203,
   "metadata": {},
   "outputs": [
    {
     "data": {
      "text/plain": [
       "1.1513442817425168"
      ]
     },
     "execution_count": 203,
     "metadata": {},
     "output_type": "execute_result"
    }
   ],
   "source": [
    "inconsistent_distance_mean = abs(df_inconsistency.cp_distance-df_inconsistency.cop_distance).mean()\n",
    "inconsistent_distance_mean"
   ]
  },
  {
   "cell_type": "code",
   "execution_count": 204,
   "metadata": {},
   "outputs": [
    {
     "data": {
      "text/plain": [
       "1.9834033666000002"
      ]
     },
     "execution_count": 204,
     "metadata": {},
     "output_type": "execute_result"
    }
   ],
   "source": [
    "inconsistent_distance_max = abs(df_inconsistency.cp_distance-df_inconsistency.cop_distance).max()\n",
    "inconsistent_distance_max"
   ]
  },
  {
   "cell_type": "code",
   "execution_count": 205,
   "metadata": {},
   "outputs": [
    {
     "data": {
      "text/plain": [
       "8.82149999999974e-06"
      ]
     },
     "execution_count": 205,
     "metadata": {},
     "output_type": "execute_result"
    }
   ],
   "source": [
    "inconsistent_distance_min = abs(df_inconsistency.cp_distance-df_inconsistency.cop_distance).min()\n",
    "inconsistent_distance_min"
   ]
  },
  {
   "cell_type": "code",
   "execution_count": null,
   "metadata": {},
   "outputs": [],
   "source": []
  },
  {
   "cell_type": "code",
   "execution_count": 206,
   "metadata": {},
   "outputs": [],
   "source": [
    "import flyingsquid\n",
    "from numpy.random import seed, rand\n",
    "import itertools\n",
    "import numpy as np"
   ]
  },
  {
   "cell_type": "code",
   "execution_count": 207,
   "metadata": {},
   "outputs": [
    {
     "data": {
      "text/html": [
       "<div>\n",
       "<style scoped>\n",
       "    .dataframe tbody tr th:only-of-type {\n",
       "        vertical-align: middle;\n",
       "    }\n",
       "\n",
       "    .dataframe tbody tr th {\n",
       "        vertical-align: top;\n",
       "    }\n",
       "\n",
       "    .dataframe thead th {\n",
       "        text-align: right;\n",
       "    }\n",
       "</style>\n",
       "<table border=\"1\" class=\"dataframe\">\n",
       "  <thead>\n",
       "    <tr style=\"text-align: right;\">\n",
       "      <th></th>\n",
       "      <th>undermine_score</th>\n",
       "      <th>support_score</th>\n",
       "      <th>cp_distance</th>\n",
       "      <th>cop_distance</th>\n",
       "      <th>predict_label</th>\n",
       "      <th>distance_label</th>\n",
       "      <th>gold</th>\n",
       "    </tr>\n",
       "  </thead>\n",
       "  <tbody>\n",
       "    <tr>\n",
       "      <th>0</th>\n",
       "      <td>-4.223587</td>\n",
       "      <td>3.430138</td>\n",
       "      <td>0.020014</td>\n",
       "      <td>0.012879</td>\n",
       "      <td>1</td>\n",
       "      <td>0</td>\n",
       "      <td>1</td>\n",
       "    </tr>\n",
       "    <tr>\n",
       "      <th>1</th>\n",
       "      <td>4.980137</td>\n",
       "      <td>-5.918371</td>\n",
       "      <td>1.923178</td>\n",
       "      <td>0.001339</td>\n",
       "      <td>0</td>\n",
       "      <td>0</td>\n",
       "      <td>0</td>\n",
       "    </tr>\n",
       "    <tr>\n",
       "      <th>2</th>\n",
       "      <td>-4.051531</td>\n",
       "      <td>3.098645</td>\n",
       "      <td>0.004558</td>\n",
       "      <td>0.010478</td>\n",
       "      <td>1</td>\n",
       "      <td>1</td>\n",
       "      <td>1</td>\n",
       "    </tr>\n",
       "    <tr>\n",
       "      <th>3</th>\n",
       "      <td>-1.659985</td>\n",
       "      <td>2.563246</td>\n",
       "      <td>0.277413</td>\n",
       "      <td>0.157976</td>\n",
       "      <td>1</td>\n",
       "      <td>0</td>\n",
       "      <td>1</td>\n",
       "    </tr>\n",
       "    <tr>\n",
       "      <th>4</th>\n",
       "      <td>-1.103358</td>\n",
       "      <td>5.317815</td>\n",
       "      <td>0.293655</td>\n",
       "      <td>1.842567</td>\n",
       "      <td>1</td>\n",
       "      <td>1</td>\n",
       "      <td>1</td>\n",
       "    </tr>\n",
       "    <tr>\n",
       "      <th>...</th>\n",
       "      <td>...</td>\n",
       "      <td>...</td>\n",
       "      <td>...</td>\n",
       "      <td>...</td>\n",
       "      <td>...</td>\n",
       "      <td>...</td>\n",
       "      <td>...</td>\n",
       "    </tr>\n",
       "    <tr>\n",
       "      <th>2522</th>\n",
       "      <td>2.155837</td>\n",
       "      <td>-1.537567</td>\n",
       "      <td>1.053408</td>\n",
       "      <td>0.922337</td>\n",
       "      <td>0</td>\n",
       "      <td>0</td>\n",
       "      <td>0</td>\n",
       "    </tr>\n",
       "    <tr>\n",
       "      <th>2523</th>\n",
       "      <td>6.712749</td>\n",
       "      <td>-5.522651</td>\n",
       "      <td>1.332932</td>\n",
       "      <td>0.112898</td>\n",
       "      <td>0</td>\n",
       "      <td>0</td>\n",
       "      <td>0</td>\n",
       "    </tr>\n",
       "    <tr>\n",
       "      <th>2524</th>\n",
       "      <td>-2.778294</td>\n",
       "      <td>2.587539</td>\n",
       "      <td>0.518143</td>\n",
       "      <td>1.368011</td>\n",
       "      <td>1</td>\n",
       "      <td>1</td>\n",
       "      <td>1</td>\n",
       "    </tr>\n",
       "    <tr>\n",
       "      <th>2525</th>\n",
       "      <td>-3.157147</td>\n",
       "      <td>3.050995</td>\n",
       "      <td>0.483791</td>\n",
       "      <td>1.372143</td>\n",
       "      <td>1</td>\n",
       "      <td>1</td>\n",
       "      <td>1</td>\n",
       "    </tr>\n",
       "    <tr>\n",
       "      <th>2526</th>\n",
       "      <td>0.692743</td>\n",
       "      <td>0.942525</td>\n",
       "      <td>0.609729</td>\n",
       "      <td>0.659963</td>\n",
       "      <td>1</td>\n",
       "      <td>1</td>\n",
       "      <td>1</td>\n",
       "    </tr>\n",
       "  </tbody>\n",
       "</table>\n",
       "<p>2527 rows × 7 columns</p>\n",
       "</div>"
      ],
      "text/plain": [
       "      undermine_score  support_score  cp_distance  cop_distance  \\\n",
       "0           -4.223587       3.430138     0.020014      0.012879   \n",
       "1            4.980137      -5.918371     1.923178      0.001339   \n",
       "2           -4.051531       3.098645     0.004558      0.010478   \n",
       "3           -1.659985       2.563246     0.277413      0.157976   \n",
       "4           -1.103358       5.317815     0.293655      1.842567   \n",
       "...               ...            ...          ...           ...   \n",
       "2522         2.155837      -1.537567     1.053408      0.922337   \n",
       "2523         6.712749      -5.522651     1.332932      0.112898   \n",
       "2524        -2.778294       2.587539     0.518143      1.368011   \n",
       "2525        -3.157147       3.050995     0.483791      1.372143   \n",
       "2526         0.692743       0.942525     0.609729      0.659963   \n",
       "\n",
       "      predict_label  distance_label  gold  \n",
       "0                 1               0     1  \n",
       "1                 0               0     0  \n",
       "2                 1               1     1  \n",
       "3                 1               0     1  \n",
       "4                 1               1     1  \n",
       "...             ...             ...   ...  \n",
       "2522              0               0     0  \n",
       "2523              0               0     0  \n",
       "2524              1               1     1  \n",
       "2525              1               1     1  \n",
       "2526              1               1     1  \n",
       "\n",
       "[2527 rows x 7 columns]"
      ]
     },
     "execution_count": 207,
     "metadata": {},
     "output_type": "execute_result"
    }
   ],
   "source": [
    "df_inconsistency"
   ]
  },
  {
   "cell_type": "code",
   "execution_count": 208,
   "metadata": {},
   "outputs": [
    {
     "data": {
      "text/html": [
       "<div>\n",
       "<style scoped>\n",
       "    .dataframe tbody tr th:only-of-type {\n",
       "        vertical-align: middle;\n",
       "    }\n",
       "\n",
       "    .dataframe tbody tr th {\n",
       "        vertical-align: top;\n",
       "    }\n",
       "\n",
       "    .dataframe thead th {\n",
       "        text-align: right;\n",
       "    }\n",
       "</style>\n",
       "<table border=\"1\" class=\"dataframe\">\n",
       "  <thead>\n",
       "    <tr style=\"text-align: right;\">\n",
       "      <th></th>\n",
       "      <th>undermine_score</th>\n",
       "      <th>support_score</th>\n",
       "      <th>cp_distance</th>\n",
       "      <th>cop_distance</th>\n",
       "      <th>predict_label</th>\n",
       "      <th>distance_label</th>\n",
       "      <th>gold</th>\n",
       "    </tr>\n",
       "  </thead>\n",
       "  <tbody>\n",
       "    <tr>\n",
       "      <th>0</th>\n",
       "      <td>-4.223587</td>\n",
       "      <td>3.430138</td>\n",
       "      <td>0.020014</td>\n",
       "      <td>0.012879</td>\n",
       "      <td>1</td>\n",
       "      <td>0</td>\n",
       "      <td>1</td>\n",
       "    </tr>\n",
       "    <tr>\n",
       "      <th>1</th>\n",
       "      <td>4.980137</td>\n",
       "      <td>-5.918371</td>\n",
       "      <td>1.923178</td>\n",
       "      <td>0.001339</td>\n",
       "      <td>0</td>\n",
       "      <td>0</td>\n",
       "      <td>0</td>\n",
       "    </tr>\n",
       "    <tr>\n",
       "      <th>2</th>\n",
       "      <td>-4.051531</td>\n",
       "      <td>3.098645</td>\n",
       "      <td>0.004558</td>\n",
       "      <td>0.010478</td>\n",
       "      <td>1</td>\n",
       "      <td>1</td>\n",
       "      <td>1</td>\n",
       "    </tr>\n",
       "    <tr>\n",
       "      <th>4</th>\n",
       "      <td>-1.103358</td>\n",
       "      <td>5.317815</td>\n",
       "      <td>0.293655</td>\n",
       "      <td>1.842567</td>\n",
       "      <td>1</td>\n",
       "      <td>1</td>\n",
       "      <td>1</td>\n",
       "    </tr>\n",
       "    <tr>\n",
       "      <th>5</th>\n",
       "      <td>-2.957279</td>\n",
       "      <td>5.612340</td>\n",
       "      <td>0.010343</td>\n",
       "      <td>1.754936</td>\n",
       "      <td>1</td>\n",
       "      <td>1</td>\n",
       "      <td>1</td>\n",
       "    </tr>\n",
       "    <tr>\n",
       "      <th>...</th>\n",
       "      <td>...</td>\n",
       "      <td>...</td>\n",
       "      <td>...</td>\n",
       "      <td>...</td>\n",
       "      <td>...</td>\n",
       "      <td>...</td>\n",
       "      <td>...</td>\n",
       "    </tr>\n",
       "    <tr>\n",
       "      <th>2519</th>\n",
       "      <td>6.098404</td>\n",
       "      <td>-4.817781</td>\n",
       "      <td>1.277633</td>\n",
       "      <td>0.138542</td>\n",
       "      <td>0</td>\n",
       "      <td>0</td>\n",
       "      <td>0</td>\n",
       "    </tr>\n",
       "    <tr>\n",
       "      <th>2520</th>\n",
       "      <td>7.552144</td>\n",
       "      <td>-6.467586</td>\n",
       "      <td>1.450673</td>\n",
       "      <td>0.491035</td>\n",
       "      <td>0</td>\n",
       "      <td>0</td>\n",
       "      <td>0</td>\n",
       "    </tr>\n",
       "    <tr>\n",
       "      <th>2521</th>\n",
       "      <td>3.317570</td>\n",
       "      <td>-3.755074</td>\n",
       "      <td>1.281456</td>\n",
       "      <td>1.372968</td>\n",
       "      <td>0</td>\n",
       "      <td>1</td>\n",
       "      <td>0</td>\n",
       "    </tr>\n",
       "    <tr>\n",
       "      <th>2523</th>\n",
       "      <td>6.712749</td>\n",
       "      <td>-5.522651</td>\n",
       "      <td>1.332932</td>\n",
       "      <td>0.112898</td>\n",
       "      <td>0</td>\n",
       "      <td>0</td>\n",
       "      <td>0</td>\n",
       "    </tr>\n",
       "    <tr>\n",
       "      <th>2525</th>\n",
       "      <td>-3.157147</td>\n",
       "      <td>3.050995</td>\n",
       "      <td>0.483791</td>\n",
       "      <td>1.372143</td>\n",
       "      <td>1</td>\n",
       "      <td>1</td>\n",
       "      <td>1</td>\n",
       "    </tr>\n",
       "  </tbody>\n",
       "</table>\n",
       "<p>2102 rows × 7 columns</p>\n",
       "</div>"
      ],
      "text/plain": [
       "      undermine_score  support_score  cp_distance  cop_distance  \\\n",
       "0           -4.223587       3.430138     0.020014      0.012879   \n",
       "1            4.980137      -5.918371     1.923178      0.001339   \n",
       "2           -4.051531       3.098645     0.004558      0.010478   \n",
       "4           -1.103358       5.317815     0.293655      1.842567   \n",
       "5           -2.957279       5.612340     0.010343      1.754936   \n",
       "...               ...            ...          ...           ...   \n",
       "2519         6.098404      -4.817781     1.277633      0.138542   \n",
       "2520         7.552144      -6.467586     1.450673      0.491035   \n",
       "2521         3.317570      -3.755074     1.281456      1.372968   \n",
       "2523         6.712749      -5.522651     1.332932      0.112898   \n",
       "2525        -3.157147       3.050995     0.483791      1.372143   \n",
       "\n",
       "      predict_label  distance_label  gold  \n",
       "0                 1               0     1  \n",
       "1                 0               0     0  \n",
       "2                 1               1     1  \n",
       "4                 1               1     1  \n",
       "5                 1               1     1  \n",
       "...             ...             ...   ...  \n",
       "2519              0               0     0  \n",
       "2520              0               0     0  \n",
       "2521              0               1     0  \n",
       "2523              0               0     0  \n",
       "2525              1               1     1  \n",
       "\n",
       "[2102 rows x 7 columns]"
      ]
     },
     "execution_count": 208,
     "metadata": {},
     "output_type": "execute_result"
    }
   ],
   "source": [
    "df_inconsistency[abs(df_inconsistency.undermine_score-df_inconsistency.support_score)>5.5]"
   ]
  },
  {
   "cell_type": "code",
   "execution_count": 209,
   "metadata": {},
   "outputs": [
    {
     "data": {
      "text/html": [
       "<div>\n",
       "<style scoped>\n",
       "    .dataframe tbody tr th:only-of-type {\n",
       "        vertical-align: middle;\n",
       "    }\n",
       "\n",
       "    .dataframe tbody tr th {\n",
       "        vertical-align: top;\n",
       "    }\n",
       "\n",
       "    .dataframe thead th {\n",
       "        text-align: right;\n",
       "    }\n",
       "</style>\n",
       "<table border=\"1\" class=\"dataframe\">\n",
       "  <thead>\n",
       "    <tr style=\"text-align: right;\">\n",
       "      <th></th>\n",
       "      <th>undermine_score</th>\n",
       "      <th>support_score</th>\n",
       "      <th>cp_distance</th>\n",
       "      <th>cop_distance</th>\n",
       "      <th>predict_label</th>\n",
       "      <th>distance_label</th>\n",
       "      <th>gold</th>\n",
       "    </tr>\n",
       "  </thead>\n",
       "  <tbody>\n",
       "    <tr>\n",
       "      <th>1</th>\n",
       "      <td>4.980137</td>\n",
       "      <td>-5.918371</td>\n",
       "      <td>1.923178</td>\n",
       "      <td>0.001339</td>\n",
       "      <td>0</td>\n",
       "      <td>0</td>\n",
       "      <td>0</td>\n",
       "    </tr>\n",
       "    <tr>\n",
       "      <th>5</th>\n",
       "      <td>-2.957279</td>\n",
       "      <td>5.612340</td>\n",
       "      <td>0.010343</td>\n",
       "      <td>1.754936</td>\n",
       "      <td>1</td>\n",
       "      <td>1</td>\n",
       "      <td>1</td>\n",
       "    </tr>\n",
       "    <tr>\n",
       "      <th>6</th>\n",
       "      <td>-2.915035</td>\n",
       "      <td>5.855358</td>\n",
       "      <td>0.004241</td>\n",
       "      <td>1.868177</td>\n",
       "      <td>1</td>\n",
       "      <td>1</td>\n",
       "      <td>1</td>\n",
       "    </tr>\n",
       "    <tr>\n",
       "      <th>8</th>\n",
       "      <td>-2.915035</td>\n",
       "      <td>5.855358</td>\n",
       "      <td>0.004241</td>\n",
       "      <td>1.868177</td>\n",
       "      <td>1</td>\n",
       "      <td>1</td>\n",
       "      <td>1</td>\n",
       "    </tr>\n",
       "    <tr>\n",
       "      <th>9</th>\n",
       "      <td>-3.204367</td>\n",
       "      <td>4.770818</td>\n",
       "      <td>0.006627</td>\n",
       "      <td>1.694313</td>\n",
       "      <td>1</td>\n",
       "      <td>1</td>\n",
       "      <td>1</td>\n",
       "    </tr>\n",
       "    <tr>\n",
       "      <th>...</th>\n",
       "      <td>...</td>\n",
       "      <td>...</td>\n",
       "      <td>...</td>\n",
       "      <td>...</td>\n",
       "      <td>...</td>\n",
       "      <td>...</td>\n",
       "      <td>...</td>\n",
       "    </tr>\n",
       "    <tr>\n",
       "      <th>2496</th>\n",
       "      <td>-2.799630</td>\n",
       "      <td>5.131019</td>\n",
       "      <td>0.060273</td>\n",
       "      <td>1.893408</td>\n",
       "      <td>1</td>\n",
       "      <td>1</td>\n",
       "      <td>0</td>\n",
       "    </tr>\n",
       "    <tr>\n",
       "      <th>2500</th>\n",
       "      <td>-3.813086</td>\n",
       "      <td>4.495462</td>\n",
       "      <td>0.271768</td>\n",
       "      <td>1.895788</td>\n",
       "      <td>1</td>\n",
       "      <td>1</td>\n",
       "      <td>1</td>\n",
       "    </tr>\n",
       "    <tr>\n",
       "      <th>2501</th>\n",
       "      <td>-4.395286</td>\n",
       "      <td>5.101991</td>\n",
       "      <td>0.220880</td>\n",
       "      <td>1.886694</td>\n",
       "      <td>1</td>\n",
       "      <td>1</td>\n",
       "      <td>1</td>\n",
       "    </tr>\n",
       "    <tr>\n",
       "      <th>2505</th>\n",
       "      <td>11.233323</td>\n",
       "      <td>-9.810861</td>\n",
       "      <td>1.917536</td>\n",
       "      <td>0.242908</td>\n",
       "      <td>0</td>\n",
       "      <td>0</td>\n",
       "      <td>0</td>\n",
       "    </tr>\n",
       "    <tr>\n",
       "      <th>2507</th>\n",
       "      <td>10.904087</td>\n",
       "      <td>-9.416132</td>\n",
       "      <td>1.907659</td>\n",
       "      <td>0.099717</td>\n",
       "      <td>0</td>\n",
       "      <td>0</td>\n",
       "      <td>0</td>\n",
       "    </tr>\n",
       "  </tbody>\n",
       "</table>\n",
       "<p>1066 rows × 7 columns</p>\n",
       "</div>"
      ],
      "text/plain": [
       "      undermine_score  support_score  cp_distance  cop_distance  \\\n",
       "1            4.980137      -5.918371     1.923178      0.001339   \n",
       "5           -2.957279       5.612340     0.010343      1.754936   \n",
       "6           -2.915035       5.855358     0.004241      1.868177   \n",
       "8           -2.915035       5.855358     0.004241      1.868177   \n",
       "9           -3.204367       4.770818     0.006627      1.694313   \n",
       "...               ...            ...          ...           ...   \n",
       "2496        -2.799630       5.131019     0.060273      1.893408   \n",
       "2500        -3.813086       4.495462     0.271768      1.895788   \n",
       "2501        -4.395286       5.101991     0.220880      1.886694   \n",
       "2505        11.233323      -9.810861     1.917536      0.242908   \n",
       "2507        10.904087      -9.416132     1.907659      0.099717   \n",
       "\n",
       "      predict_label  distance_label  gold  \n",
       "1                 0               0     0  \n",
       "5                 1               1     1  \n",
       "6                 1               1     1  \n",
       "8                 1               1     1  \n",
       "9                 1               1     1  \n",
       "...             ...             ...   ...  \n",
       "2496              1               1     0  \n",
       "2500              1               1     1  \n",
       "2501              1               1     1  \n",
       "2505              0               0     0  \n",
       "2507              0               0     0  \n",
       "\n",
       "[1066 rows x 7 columns]"
      ]
     },
     "execution_count": 209,
     "metadata": {},
     "output_type": "execute_result"
    }
   ],
   "source": [
    "df_inconsistency[abs(df_inconsistency.cp_distance-df_inconsistency.cop_distance)>1.6]"
   ]
  },
  {
   "cell_type": "code",
   "execution_count": 523,
   "metadata": {},
   "outputs": [],
   "source": [
    "df_inconsistency[\"snorkel_logits_17\"]=df_inconsistency.predict_label\n",
    "df_inconsistency.snorkel_logits_17=df_inconsistency.apply(lambda x: -1 if x.snorkel_logits_17==0 else 1, axis=1)\n",
    "df_inconsistency.snorkel_logits_17=df_inconsistency.apply(lambda x: 0 if abs(x.undermine_score-x.support_score)<5  else x.snorkel_logits_17, axis=1)"
   ]
  },
  {
   "cell_type": "code",
   "execution_count": 524,
   "metadata": {},
   "outputs": [],
   "source": [
    "df_inconsistency[\"snorkel_logits_37\"]=df_inconsistency.predict_label\n",
    "df_inconsistency.snorkel_logits_37=df_inconsistency.apply(lambda x: -1 if x.snorkel_logits_37==0 else 1, axis=1)\n",
    "df_inconsistency.snorkel_logits_37=df_inconsistency.apply(lambda x: 0 if abs(x.undermine_score-x.support_score)<5.5  else x.snorkel_logits_37, axis=1)"
   ]
  },
  {
   "cell_type": "code",
   "execution_count": 525,
   "metadata": {},
   "outputs": [],
   "source": [
    "df_inconsistency[\"snorkel_logits_57\"]=df_inconsistency.predict_label\n",
    "df_inconsistency.snorkel_logits_57=df_inconsistency.apply(lambda x: -1 if x.snorkel_logits_57==0 else 1, axis=1)\n",
    "df_inconsistency.snorkel_logits_57=df_inconsistency.apply(lambda x: 0 if abs(x.undermine_score-x.support_score)<8.6 else x.snorkel_logits_57, axis=1)"
   ]
  },
  {
   "cell_type": "code",
   "execution_count": 526,
   "metadata": {},
   "outputs": [],
   "source": [
    "df_inconsistency[\"snorkel_logits_77\"]=df_inconsistency.predict_label\n",
    "df_inconsistency.snorkel_logits_77=df_inconsistency.apply(lambda x: -1 if x.snorkel_logits_77==0 else 1, axis=1)\n",
    "df_inconsistency.snorkel_logits_77=df_inconsistency.apply(lambda x: 0 if abs(x.undermine_score-x.support_score)<11  else x.snorkel_logits_77, axis=1)"
   ]
  },
  {
   "cell_type": "code",
   "execution_count": 527,
   "metadata": {},
   "outputs": [],
   "source": [
    "df_inconsistency[\"snorkel_logits_97\"]=df_inconsistency.predict_label\n",
    "df_inconsistency.snorkel_logits_97=df_inconsistency.apply(lambda x: -1 if x.snorkel_logits_97==0 else 1, axis=1)\n",
    "df_inconsistency.snorkel_logits_97=df_inconsistency.apply(lambda x: 0 if abs(x.undermine_score-x.support_score)<13  else x.snorkel_logits_97, axis=1)"
   ]
  },
  {
   "cell_type": "code",
   "execution_count": 528,
   "metadata": {},
   "outputs": [],
   "source": [
    "df_inconsistency[\"snorkel_distance_01\"]=df_inconsistency.distance_label\n",
    "df_inconsistency.snorkel_distance_01=df_inconsistency.apply(lambda x: -1 if x.snorkel_distance_01==0 else 1, axis=1)\n",
    "df_inconsistency.snorkel_distance_01=df_inconsistency.apply(lambda x: 0 if abs(x.cp_distance-x.cop_distance)<0.01  else x.snorkel_distance_01, axis=1)"
   ]
  },
  {
   "cell_type": "code",
   "execution_count": 529,
   "metadata": {},
   "outputs": [],
   "source": [
    "df_inconsistency[\"snorkel_distance_03\"]=df_inconsistency.distance_label\n",
    "df_inconsistency.snorkel_distance_03=df_inconsistency.apply(lambda x: -1 if x.snorkel_distance_03==0 else 1, axis=1)\n",
    "df_inconsistency.snorkel_distance_03=df_inconsistency.apply(lambda x: 0 if abs(x.cp_distance-x.cop_distance)<0.2  else x.snorkel_distance_03, axis=1)"
   ]
  },
  {
   "cell_type": "code",
   "execution_count": 530,
   "metadata": {},
   "outputs": [],
   "source": [
    "df_inconsistency[\"snorkel_distance_05\"]=df_inconsistency.distance_label\n",
    "df_inconsistency.snorkel_distance_05=df_inconsistency.apply(lambda x: -1 if x.snorkel_distance_05==0 else 1, axis=1)\n",
    "df_inconsistency.snorkel_distance_05=df_inconsistency.apply(lambda x: 0 if abs(x.cp_distance-x.cop_distance)<1.1  else x.snorkel_distance_05, axis=1)"
   ]
  },
  {
   "cell_type": "code",
   "execution_count": 531,
   "metadata": {},
   "outputs": [],
   "source": [
    "df_inconsistency[\"snorkel_distance_07\"]=df_inconsistency.distance_label\n",
    "df_inconsistency.snorkel_distance_07=df_inconsistency.apply(lambda x: -1 if x.snorkel_distance_07==0 else 1, axis=1)\n",
    "df_inconsistency.snorkel_distance_07=df_inconsistency.apply(lambda x: 0 if abs(x.cp_distance-x.cop_distance)<1.5  else x.snorkel_distance_07, axis=1)"
   ]
  },
  {
   "cell_type": "code",
   "execution_count": 532,
   "metadata": {},
   "outputs": [],
   "source": [
    "df_inconsistency[\"snorkel_distance_09\"]=df_inconsistency.distance_label\n",
    "df_inconsistency.snorkel_distance_09=df_inconsistency.apply(lambda x: -1 if x.snorkel_distance_09==0 else 1, axis=1)\n",
    "df_inconsistency.snorkel_distance_09=df_inconsistency.apply(lambda x: 0 if abs(x.cp_distance-x.cop_distance)<1.9  else x.snorkel_distance_09, axis=1)"
   ]
  },
  {
   "cell_type": "code",
   "execution_count": 533,
   "metadata": {},
   "outputs": [],
   "source": [
    "df_inconsistency[\"snorkel_label\"]=df_inconsistency.gold\n",
    "df_inconsistency.snorkel_label = df_inconsistency.apply(lambda x: -1 if x.snorkel_label==0 else 1, axis=1)"
   ]
  },
  {
   "cell_type": "code",
   "execution_count": 534,
   "metadata": {},
   "outputs": [
    {
     "data": {
      "text/html": [
       "<div>\n",
       "<style scoped>\n",
       "    .dataframe tbody tr th:only-of-type {\n",
       "        vertical-align: middle;\n",
       "    }\n",
       "\n",
       "    .dataframe tbody tr th {\n",
       "        vertical-align: top;\n",
       "    }\n",
       "\n",
       "    .dataframe thead th {\n",
       "        text-align: right;\n",
       "    }\n",
       "</style>\n",
       "<table border=\"1\" class=\"dataframe\">\n",
       "  <thead>\n",
       "    <tr style=\"text-align: right;\">\n",
       "      <th></th>\n",
       "      <th>undermine_score</th>\n",
       "      <th>support_score</th>\n",
       "      <th>cp_distance</th>\n",
       "      <th>cop_distance</th>\n",
       "      <th>predict_label</th>\n",
       "      <th>distance_label</th>\n",
       "      <th>gold</th>\n",
       "      <th>snorkel_logits_17</th>\n",
       "      <th>snorkel_logits_37</th>\n",
       "      <th>snorkel_logits_57</th>\n",
       "      <th>snorkel_logits_77</th>\n",
       "      <th>snorkel_logits_97</th>\n",
       "      <th>snorkel_distance_01</th>\n",
       "      <th>snorkel_distance_03</th>\n",
       "      <th>snorkel_distance_05</th>\n",
       "      <th>snorkel_distance_07</th>\n",
       "      <th>snorkel_distance_09</th>\n",
       "      <th>snorkel_label</th>\n",
       "    </tr>\n",
       "  </thead>\n",
       "  <tbody>\n",
       "    <tr>\n",
       "      <th>0</th>\n",
       "      <td>-4.223587</td>\n",
       "      <td>3.430138</td>\n",
       "      <td>0.020014</td>\n",
       "      <td>0.012879</td>\n",
       "      <td>1</td>\n",
       "      <td>0</td>\n",
       "      <td>1</td>\n",
       "      <td>1.0</td>\n",
       "      <td>1.0</td>\n",
       "      <td>0.0</td>\n",
       "      <td>0.0</td>\n",
       "      <td>0.0</td>\n",
       "      <td>0.0</td>\n",
       "      <td>0.0</td>\n",
       "      <td>0.0</td>\n",
       "      <td>0.0</td>\n",
       "      <td>0.0</td>\n",
       "      <td>1</td>\n",
       "    </tr>\n",
       "    <tr>\n",
       "      <th>1</th>\n",
       "      <td>4.980137</td>\n",
       "      <td>-5.918371</td>\n",
       "      <td>1.923178</td>\n",
       "      <td>0.001339</td>\n",
       "      <td>0</td>\n",
       "      <td>0</td>\n",
       "      <td>0</td>\n",
       "      <td>-1.0</td>\n",
       "      <td>-1.0</td>\n",
       "      <td>-1.0</td>\n",
       "      <td>0.0</td>\n",
       "      <td>0.0</td>\n",
       "      <td>-1.0</td>\n",
       "      <td>-1.0</td>\n",
       "      <td>-1.0</td>\n",
       "      <td>-1.0</td>\n",
       "      <td>-1.0</td>\n",
       "      <td>-1</td>\n",
       "    </tr>\n",
       "    <tr>\n",
       "      <th>2</th>\n",
       "      <td>-4.051531</td>\n",
       "      <td>3.098645</td>\n",
       "      <td>0.004558</td>\n",
       "      <td>0.010478</td>\n",
       "      <td>1</td>\n",
       "      <td>1</td>\n",
       "      <td>1</td>\n",
       "      <td>1.0</td>\n",
       "      <td>1.0</td>\n",
       "      <td>0.0</td>\n",
       "      <td>0.0</td>\n",
       "      <td>0.0</td>\n",
       "      <td>0.0</td>\n",
       "      <td>0.0</td>\n",
       "      <td>0.0</td>\n",
       "      <td>0.0</td>\n",
       "      <td>0.0</td>\n",
       "      <td>1</td>\n",
       "    </tr>\n",
       "    <tr>\n",
       "      <th>3</th>\n",
       "      <td>-1.659985</td>\n",
       "      <td>2.563246</td>\n",
       "      <td>0.277413</td>\n",
       "      <td>0.157976</td>\n",
       "      <td>1</td>\n",
       "      <td>0</td>\n",
       "      <td>1</td>\n",
       "      <td>0.0</td>\n",
       "      <td>0.0</td>\n",
       "      <td>0.0</td>\n",
       "      <td>0.0</td>\n",
       "      <td>0.0</td>\n",
       "      <td>-1.0</td>\n",
       "      <td>0.0</td>\n",
       "      <td>0.0</td>\n",
       "      <td>0.0</td>\n",
       "      <td>0.0</td>\n",
       "      <td>1</td>\n",
       "    </tr>\n",
       "    <tr>\n",
       "      <th>4</th>\n",
       "      <td>-1.103358</td>\n",
       "      <td>5.317815</td>\n",
       "      <td>0.293655</td>\n",
       "      <td>1.842567</td>\n",
       "      <td>1</td>\n",
       "      <td>1</td>\n",
       "      <td>1</td>\n",
       "      <td>1.0</td>\n",
       "      <td>1.0</td>\n",
       "      <td>0.0</td>\n",
       "      <td>0.0</td>\n",
       "      <td>0.0</td>\n",
       "      <td>1.0</td>\n",
       "      <td>1.0</td>\n",
       "      <td>1.0</td>\n",
       "      <td>1.0</td>\n",
       "      <td>0.0</td>\n",
       "      <td>1</td>\n",
       "    </tr>\n",
       "    <tr>\n",
       "      <th>...</th>\n",
       "      <td>...</td>\n",
       "      <td>...</td>\n",
       "      <td>...</td>\n",
       "      <td>...</td>\n",
       "      <td>...</td>\n",
       "      <td>...</td>\n",
       "      <td>...</td>\n",
       "      <td>...</td>\n",
       "      <td>...</td>\n",
       "      <td>...</td>\n",
       "      <td>...</td>\n",
       "      <td>...</td>\n",
       "      <td>...</td>\n",
       "      <td>...</td>\n",
       "      <td>...</td>\n",
       "      <td>...</td>\n",
       "      <td>...</td>\n",
       "      <td>...</td>\n",
       "    </tr>\n",
       "    <tr>\n",
       "      <th>2522</th>\n",
       "      <td>2.155837</td>\n",
       "      <td>-1.537567</td>\n",
       "      <td>1.053408</td>\n",
       "      <td>0.922337</td>\n",
       "      <td>0</td>\n",
       "      <td>0</td>\n",
       "      <td>0</td>\n",
       "      <td>0.0</td>\n",
       "      <td>0.0</td>\n",
       "      <td>0.0</td>\n",
       "      <td>0.0</td>\n",
       "      <td>0.0</td>\n",
       "      <td>-1.0</td>\n",
       "      <td>0.0</td>\n",
       "      <td>0.0</td>\n",
       "      <td>0.0</td>\n",
       "      <td>0.0</td>\n",
       "      <td>-1</td>\n",
       "    </tr>\n",
       "    <tr>\n",
       "      <th>2523</th>\n",
       "      <td>6.712749</td>\n",
       "      <td>-5.522651</td>\n",
       "      <td>1.332932</td>\n",
       "      <td>0.112898</td>\n",
       "      <td>0</td>\n",
       "      <td>0</td>\n",
       "      <td>0</td>\n",
       "      <td>-1.0</td>\n",
       "      <td>-1.0</td>\n",
       "      <td>-1.0</td>\n",
       "      <td>-1.0</td>\n",
       "      <td>0.0</td>\n",
       "      <td>-1.0</td>\n",
       "      <td>-1.0</td>\n",
       "      <td>-1.0</td>\n",
       "      <td>0.0</td>\n",
       "      <td>0.0</td>\n",
       "      <td>-1</td>\n",
       "    </tr>\n",
       "    <tr>\n",
       "      <th>2524</th>\n",
       "      <td>-2.778294</td>\n",
       "      <td>2.587539</td>\n",
       "      <td>0.518143</td>\n",
       "      <td>1.368011</td>\n",
       "      <td>1</td>\n",
       "      <td>1</td>\n",
       "      <td>1</td>\n",
       "      <td>1.0</td>\n",
       "      <td>0.0</td>\n",
       "      <td>0.0</td>\n",
       "      <td>0.0</td>\n",
       "      <td>0.0</td>\n",
       "      <td>1.0</td>\n",
       "      <td>1.0</td>\n",
       "      <td>0.0</td>\n",
       "      <td>0.0</td>\n",
       "      <td>0.0</td>\n",
       "      <td>1</td>\n",
       "    </tr>\n",
       "    <tr>\n",
       "      <th>2525</th>\n",
       "      <td>-3.157147</td>\n",
       "      <td>3.050995</td>\n",
       "      <td>0.483791</td>\n",
       "      <td>1.372143</td>\n",
       "      <td>1</td>\n",
       "      <td>1</td>\n",
       "      <td>1</td>\n",
       "      <td>1.0</td>\n",
       "      <td>1.0</td>\n",
       "      <td>0.0</td>\n",
       "      <td>0.0</td>\n",
       "      <td>0.0</td>\n",
       "      <td>1.0</td>\n",
       "      <td>1.0</td>\n",
       "      <td>0.0</td>\n",
       "      <td>0.0</td>\n",
       "      <td>0.0</td>\n",
       "      <td>1</td>\n",
       "    </tr>\n",
       "    <tr>\n",
       "      <th>2526</th>\n",
       "      <td>0.692743</td>\n",
       "      <td>0.942525</td>\n",
       "      <td>0.609729</td>\n",
       "      <td>0.659963</td>\n",
       "      <td>1</td>\n",
       "      <td>1</td>\n",
       "      <td>1</td>\n",
       "      <td>0.0</td>\n",
       "      <td>0.0</td>\n",
       "      <td>0.0</td>\n",
       "      <td>0.0</td>\n",
       "      <td>0.0</td>\n",
       "      <td>1.0</td>\n",
       "      <td>0.0</td>\n",
       "      <td>0.0</td>\n",
       "      <td>0.0</td>\n",
       "      <td>0.0</td>\n",
       "      <td>1</td>\n",
       "    </tr>\n",
       "  </tbody>\n",
       "</table>\n",
       "<p>2527 rows × 18 columns</p>\n",
       "</div>"
      ],
      "text/plain": [
       "      undermine_score  support_score  cp_distance  cop_distance  \\\n",
       "0           -4.223587       3.430138     0.020014      0.012879   \n",
       "1            4.980137      -5.918371     1.923178      0.001339   \n",
       "2           -4.051531       3.098645     0.004558      0.010478   \n",
       "3           -1.659985       2.563246     0.277413      0.157976   \n",
       "4           -1.103358       5.317815     0.293655      1.842567   \n",
       "...               ...            ...          ...           ...   \n",
       "2522         2.155837      -1.537567     1.053408      0.922337   \n",
       "2523         6.712749      -5.522651     1.332932      0.112898   \n",
       "2524        -2.778294       2.587539     0.518143      1.368011   \n",
       "2525        -3.157147       3.050995     0.483791      1.372143   \n",
       "2526         0.692743       0.942525     0.609729      0.659963   \n",
       "\n",
       "      predict_label  distance_label  gold  snorkel_logits_17  \\\n",
       "0                 1               0     1                1.0   \n",
       "1                 0               0     0               -1.0   \n",
       "2                 1               1     1                1.0   \n",
       "3                 1               0     1                0.0   \n",
       "4                 1               1     1                1.0   \n",
       "...             ...             ...   ...                ...   \n",
       "2522              0               0     0                0.0   \n",
       "2523              0               0     0               -1.0   \n",
       "2524              1               1     1                1.0   \n",
       "2525              1               1     1                1.0   \n",
       "2526              1               1     1                0.0   \n",
       "\n",
       "      snorkel_logits_37  snorkel_logits_57  snorkel_logits_77  \\\n",
       "0                   1.0                0.0                0.0   \n",
       "1                  -1.0               -1.0                0.0   \n",
       "2                   1.0                0.0                0.0   \n",
       "3                   0.0                0.0                0.0   \n",
       "4                   1.0                0.0                0.0   \n",
       "...                 ...                ...                ...   \n",
       "2522                0.0                0.0                0.0   \n",
       "2523               -1.0               -1.0               -1.0   \n",
       "2524                0.0                0.0                0.0   \n",
       "2525                1.0                0.0                0.0   \n",
       "2526                0.0                0.0                0.0   \n",
       "\n",
       "      snorkel_logits_97  snorkel_distance_01  snorkel_distance_03  \\\n",
       "0                   0.0                  0.0                  0.0   \n",
       "1                   0.0                 -1.0                 -1.0   \n",
       "2                   0.0                  0.0                  0.0   \n",
       "3                   0.0                 -1.0                  0.0   \n",
       "4                   0.0                  1.0                  1.0   \n",
       "...                 ...                  ...                  ...   \n",
       "2522                0.0                 -1.0                  0.0   \n",
       "2523                0.0                 -1.0                 -1.0   \n",
       "2524                0.0                  1.0                  1.0   \n",
       "2525                0.0                  1.0                  1.0   \n",
       "2526                0.0                  1.0                  0.0   \n",
       "\n",
       "      snorkel_distance_05  snorkel_distance_07  snorkel_distance_09  \\\n",
       "0                     0.0                  0.0                  0.0   \n",
       "1                    -1.0                 -1.0                 -1.0   \n",
       "2                     0.0                  0.0                  0.0   \n",
       "3                     0.0                  0.0                  0.0   \n",
       "4                     1.0                  1.0                  0.0   \n",
       "...                   ...                  ...                  ...   \n",
       "2522                  0.0                  0.0                  0.0   \n",
       "2523                 -1.0                  0.0                  0.0   \n",
       "2524                  0.0                  0.0                  0.0   \n",
       "2525                  0.0                  0.0                  0.0   \n",
       "2526                  0.0                  0.0                  0.0   \n",
       "\n",
       "      snorkel_label  \n",
       "0                 1  \n",
       "1                -1  \n",
       "2                 1  \n",
       "3                 1  \n",
       "4                 1  \n",
       "...             ...  \n",
       "2522             -1  \n",
       "2523             -1  \n",
       "2524              1  \n",
       "2525              1  \n",
       "2526              1  \n",
       "\n",
       "[2527 rows x 18 columns]"
      ]
     },
     "execution_count": 534,
     "metadata": {},
     "output_type": "execute_result"
    }
   ],
   "source": [
    "df_inconsistency"
   ]
  },
  {
   "cell_type": "code",
   "execution_count": 535,
   "metadata": {},
   "outputs": [],
   "source": [
    "drop_name = [\"snorkel_logits_57\",\"snorkel_logits_77\",\"snorkel_logits_97\",\"snorkel_distance_05\",\"snorkel_distance_07\"]"
   ]
  },
  {
   "cell_type": "code",
   "execution_count": 536,
   "metadata": {},
   "outputs": [
    {
     "data": {
      "text/html": [
       "<div>\n",
       "<style scoped>\n",
       "    .dataframe tbody tr th:only-of-type {\n",
       "        vertical-align: middle;\n",
       "    }\n",
       "\n",
       "    .dataframe tbody tr th {\n",
       "        vertical-align: top;\n",
       "    }\n",
       "\n",
       "    .dataframe thead th {\n",
       "        text-align: right;\n",
       "    }\n",
       "</style>\n",
       "<table border=\"1\" class=\"dataframe\">\n",
       "  <thead>\n",
       "    <tr style=\"text-align: right;\">\n",
       "      <th></th>\n",
       "      <th>snorkel_logits_17</th>\n",
       "      <th>snorkel_logits_37</th>\n",
       "      <th>snorkel_distance_01</th>\n",
       "      <th>snorkel_distance_03</th>\n",
       "      <th>snorkel_distance_09</th>\n",
       "    </tr>\n",
       "  </thead>\n",
       "  <tbody>\n",
       "    <tr>\n",
       "      <th>0</th>\n",
       "      <td>1.0</td>\n",
       "      <td>1.0</td>\n",
       "      <td>0.0</td>\n",
       "      <td>0.0</td>\n",
       "      <td>0.0</td>\n",
       "    </tr>\n",
       "    <tr>\n",
       "      <th>1</th>\n",
       "      <td>-1.0</td>\n",
       "      <td>-1.0</td>\n",
       "      <td>-1.0</td>\n",
       "      <td>-1.0</td>\n",
       "      <td>-1.0</td>\n",
       "    </tr>\n",
       "    <tr>\n",
       "      <th>2</th>\n",
       "      <td>1.0</td>\n",
       "      <td>1.0</td>\n",
       "      <td>0.0</td>\n",
       "      <td>0.0</td>\n",
       "      <td>0.0</td>\n",
       "    </tr>\n",
       "    <tr>\n",
       "      <th>3</th>\n",
       "      <td>0.0</td>\n",
       "      <td>0.0</td>\n",
       "      <td>-1.0</td>\n",
       "      <td>0.0</td>\n",
       "      <td>0.0</td>\n",
       "    </tr>\n",
       "    <tr>\n",
       "      <th>4</th>\n",
       "      <td>1.0</td>\n",
       "      <td>1.0</td>\n",
       "      <td>1.0</td>\n",
       "      <td>1.0</td>\n",
       "      <td>0.0</td>\n",
       "    </tr>\n",
       "    <tr>\n",
       "      <th>...</th>\n",
       "      <td>...</td>\n",
       "      <td>...</td>\n",
       "      <td>...</td>\n",
       "      <td>...</td>\n",
       "      <td>...</td>\n",
       "    </tr>\n",
       "    <tr>\n",
       "      <th>2522</th>\n",
       "      <td>0.0</td>\n",
       "      <td>0.0</td>\n",
       "      <td>-1.0</td>\n",
       "      <td>0.0</td>\n",
       "      <td>0.0</td>\n",
       "    </tr>\n",
       "    <tr>\n",
       "      <th>2523</th>\n",
       "      <td>-1.0</td>\n",
       "      <td>-1.0</td>\n",
       "      <td>-1.0</td>\n",
       "      <td>-1.0</td>\n",
       "      <td>0.0</td>\n",
       "    </tr>\n",
       "    <tr>\n",
       "      <th>2524</th>\n",
       "      <td>1.0</td>\n",
       "      <td>0.0</td>\n",
       "      <td>1.0</td>\n",
       "      <td>1.0</td>\n",
       "      <td>0.0</td>\n",
       "    </tr>\n",
       "    <tr>\n",
       "      <th>2525</th>\n",
       "      <td>1.0</td>\n",
       "      <td>1.0</td>\n",
       "      <td>1.0</td>\n",
       "      <td>1.0</td>\n",
       "      <td>0.0</td>\n",
       "    </tr>\n",
       "    <tr>\n",
       "      <th>2526</th>\n",
       "      <td>0.0</td>\n",
       "      <td>0.0</td>\n",
       "      <td>1.0</td>\n",
       "      <td>0.0</td>\n",
       "      <td>0.0</td>\n",
       "    </tr>\n",
       "  </tbody>\n",
       "</table>\n",
       "<p>2527 rows × 5 columns</p>\n",
       "</div>"
      ],
      "text/plain": [
       "      snorkel_logits_17  snorkel_logits_37  snorkel_distance_01  \\\n",
       "0                   1.0                1.0                  0.0   \n",
       "1                  -1.0               -1.0                 -1.0   \n",
       "2                   1.0                1.0                  0.0   \n",
       "3                   0.0                0.0                 -1.0   \n",
       "4                   1.0                1.0                  1.0   \n",
       "...                 ...                ...                  ...   \n",
       "2522                0.0                0.0                 -1.0   \n",
       "2523               -1.0               -1.0                 -1.0   \n",
       "2524                1.0                0.0                  1.0   \n",
       "2525                1.0                1.0                  1.0   \n",
       "2526                0.0                0.0                  1.0   \n",
       "\n",
       "      snorkel_distance_03  snorkel_distance_09  \n",
       "0                     0.0                  0.0  \n",
       "1                    -1.0                 -1.0  \n",
       "2                     0.0                  0.0  \n",
       "3                     0.0                  0.0  \n",
       "4                     1.0                  0.0  \n",
       "...                   ...                  ...  \n",
       "2522                  0.0                  0.0  \n",
       "2523                 -1.0                  0.0  \n",
       "2524                  1.0                  0.0  \n",
       "2525                  1.0                  0.0  \n",
       "2526                  0.0                  0.0  \n",
       "\n",
       "[2527 rows x 5 columns]"
      ]
     },
     "execution_count": 536,
     "metadata": {},
     "output_type": "execute_result"
    }
   ],
   "source": [
    "df_inconsistency.iloc[:,-11:-1].drop(drop_name,axis=1)\n",
    "# df_inconsistency.iloc[:,-10:-1]"
   ]
  },
  {
   "cell_type": "code",
   "execution_count": 537,
   "metadata": {},
   "outputs": [
    {
     "data": {
      "text/plain": [
       "array([[ 1.,  1.,  0.,  0.,  0.],\n",
       "       [-1., -1., -1., -1., -1.],\n",
       "       [ 1.,  1.,  0.,  0.,  0.],\n",
       "       ...,\n",
       "       [ 1.,  0.,  1.,  1.,  0.],\n",
       "       [ 1.,  1.,  1.,  1.,  0.],\n",
       "       [ 0.,  0.,  1.,  0.,  0.]])"
      ]
     },
     "execution_count": 537,
     "metadata": {},
     "output_type": "execute_result"
    }
   ],
   "source": [
    "df_inconsistency.iloc[:,-11:-1].drop(drop_name,axis=1).values\n",
    "# df_inconsistency.iloc[:,-10:-1].values"
   ]
  },
  {
   "cell_type": "code",
   "execution_count": 538,
   "metadata": {},
   "outputs": [
    {
     "data": {
      "text/plain": [
       "array([ 1, -1,  1, ...,  1,  1,  1], dtype=int64)"
      ]
     },
     "execution_count": 538,
     "metadata": {},
     "output_type": "execute_result"
    }
   ],
   "source": [
    "df_inconsistency.snorkel_label.values"
   ]
  },
  {
   "cell_type": "code",
   "execution_count": 539,
   "metadata": {},
   "outputs": [],
   "source": [
    "# L_dev = df_inconsistency.iloc[:,-11:-1].values\n",
    "L_dev = df_inconsistency.iloc[:,-11:-1].drop(drop_name,axis=1).values"
   ]
  },
  {
   "cell_type": "code",
   "execution_count": 540,
   "metadata": {},
   "outputs": [],
   "source": [
    "Y_dev = df_inconsistency.snorkel_label.values"
   ]
  },
  {
   "cell_type": "code",
   "execution_count": 541,
   "metadata": {},
   "outputs": [],
   "source": [
    "# df_L_train = pd.read_csv(\"../stance_code_local/finetuned_L_train_entiretest.csv\")\n",
    "df_L_train = df_inconsistency"
   ]
  },
  {
   "cell_type": "code",
   "execution_count": 542,
   "metadata": {},
   "outputs": [
    {
     "data": {
      "text/html": [
       "<div>\n",
       "<style scoped>\n",
       "    .dataframe tbody tr th:only-of-type {\n",
       "        vertical-align: middle;\n",
       "    }\n",
       "\n",
       "    .dataframe tbody tr th {\n",
       "        vertical-align: top;\n",
       "    }\n",
       "\n",
       "    .dataframe thead th {\n",
       "        text-align: right;\n",
       "    }\n",
       "</style>\n",
       "<table border=\"1\" class=\"dataframe\">\n",
       "  <thead>\n",
       "    <tr style=\"text-align: right;\">\n",
       "      <th></th>\n",
       "      <th>snorkel_logits_17</th>\n",
       "      <th>snorkel_logits_37</th>\n",
       "      <th>snorkel_distance_01</th>\n",
       "      <th>snorkel_distance_03</th>\n",
       "      <th>snorkel_distance_09</th>\n",
       "    </tr>\n",
       "  </thead>\n",
       "  <tbody>\n",
       "    <tr>\n",
       "      <th>0</th>\n",
       "      <td>1.0</td>\n",
       "      <td>1.0</td>\n",
       "      <td>0.0</td>\n",
       "      <td>0.0</td>\n",
       "      <td>0.0</td>\n",
       "    </tr>\n",
       "    <tr>\n",
       "      <th>1</th>\n",
       "      <td>-1.0</td>\n",
       "      <td>-1.0</td>\n",
       "      <td>-1.0</td>\n",
       "      <td>-1.0</td>\n",
       "      <td>-1.0</td>\n",
       "    </tr>\n",
       "    <tr>\n",
       "      <th>2</th>\n",
       "      <td>1.0</td>\n",
       "      <td>1.0</td>\n",
       "      <td>0.0</td>\n",
       "      <td>0.0</td>\n",
       "      <td>0.0</td>\n",
       "    </tr>\n",
       "    <tr>\n",
       "      <th>3</th>\n",
       "      <td>0.0</td>\n",
       "      <td>0.0</td>\n",
       "      <td>-1.0</td>\n",
       "      <td>0.0</td>\n",
       "      <td>0.0</td>\n",
       "    </tr>\n",
       "    <tr>\n",
       "      <th>4</th>\n",
       "      <td>1.0</td>\n",
       "      <td>1.0</td>\n",
       "      <td>1.0</td>\n",
       "      <td>1.0</td>\n",
       "      <td>0.0</td>\n",
       "    </tr>\n",
       "    <tr>\n",
       "      <th>...</th>\n",
       "      <td>...</td>\n",
       "      <td>...</td>\n",
       "      <td>...</td>\n",
       "      <td>...</td>\n",
       "      <td>...</td>\n",
       "    </tr>\n",
       "    <tr>\n",
       "      <th>2522</th>\n",
       "      <td>0.0</td>\n",
       "      <td>0.0</td>\n",
       "      <td>-1.0</td>\n",
       "      <td>0.0</td>\n",
       "      <td>0.0</td>\n",
       "    </tr>\n",
       "    <tr>\n",
       "      <th>2523</th>\n",
       "      <td>-1.0</td>\n",
       "      <td>-1.0</td>\n",
       "      <td>-1.0</td>\n",
       "      <td>-1.0</td>\n",
       "      <td>0.0</td>\n",
       "    </tr>\n",
       "    <tr>\n",
       "      <th>2524</th>\n",
       "      <td>1.0</td>\n",
       "      <td>0.0</td>\n",
       "      <td>1.0</td>\n",
       "      <td>1.0</td>\n",
       "      <td>0.0</td>\n",
       "    </tr>\n",
       "    <tr>\n",
       "      <th>2525</th>\n",
       "      <td>1.0</td>\n",
       "      <td>1.0</td>\n",
       "      <td>1.0</td>\n",
       "      <td>1.0</td>\n",
       "      <td>0.0</td>\n",
       "    </tr>\n",
       "    <tr>\n",
       "      <th>2526</th>\n",
       "      <td>0.0</td>\n",
       "      <td>0.0</td>\n",
       "      <td>1.0</td>\n",
       "      <td>0.0</td>\n",
       "      <td>0.0</td>\n",
       "    </tr>\n",
       "  </tbody>\n",
       "</table>\n",
       "<p>2527 rows × 5 columns</p>\n",
       "</div>"
      ],
      "text/plain": [
       "      snorkel_logits_17  snorkel_logits_37  snorkel_distance_01  \\\n",
       "0                   1.0                1.0                  0.0   \n",
       "1                  -1.0               -1.0                 -1.0   \n",
       "2                   1.0                1.0                  0.0   \n",
       "3                   0.0                0.0                 -1.0   \n",
       "4                   1.0                1.0                  1.0   \n",
       "...                 ...                ...                  ...   \n",
       "2522                0.0                0.0                 -1.0   \n",
       "2523               -1.0               -1.0                 -1.0   \n",
       "2524                1.0                0.0                  1.0   \n",
       "2525                1.0                1.0                  1.0   \n",
       "2526                0.0                0.0                  1.0   \n",
       "\n",
       "      snorkel_distance_03  snorkel_distance_09  \n",
       "0                     0.0                  0.0  \n",
       "1                    -1.0                 -1.0  \n",
       "2                     0.0                  0.0  \n",
       "3                     0.0                  0.0  \n",
       "4                     1.0                  0.0  \n",
       "...                   ...                  ...  \n",
       "2522                  0.0                  0.0  \n",
       "2523                 -1.0                  0.0  \n",
       "2524                  1.0                  0.0  \n",
       "2525                  1.0                  0.0  \n",
       "2526                  0.0                  0.0  \n",
       "\n",
       "[2527 rows x 5 columns]"
      ]
     },
     "execution_count": 542,
     "metadata": {},
     "output_type": "execute_result"
    }
   ],
   "source": [
    "# df_L_train.iloc[:,-11:-1]\n",
    "df_L_train.iloc[:,-11:-1].drop(drop_name,axis=1)"
   ]
  },
  {
   "cell_type": "code",
   "execution_count": 543,
   "metadata": {},
   "outputs": [
    {
     "data": {
      "text/plain": [
       "array([[ 1.,  1.,  0.,  0.,  0.],\n",
       "       [-1., -1., -1., -1., -1.],\n",
       "       [ 1.,  1.,  0.,  0.,  0.],\n",
       "       ...,\n",
       "       [ 1.,  0.,  1.,  1.,  0.],\n",
       "       [ 1.,  1.,  1.,  1.,  0.],\n",
       "       [ 0.,  0.,  1.,  0.,  0.]])"
      ]
     },
     "execution_count": 543,
     "metadata": {},
     "output_type": "execute_result"
    }
   ],
   "source": [
    "# df_L_train.iloc[:,-11:-1].values\n",
    "df_L_train.iloc[:,-11:-1].drop(drop_name,axis=1).values"
   ]
  },
  {
   "cell_type": "code",
   "execution_count": 544,
   "metadata": {},
   "outputs": [],
   "source": [
    "# L_train = df_L_train.iloc[:,-11:-1].values\n",
    "L_train = df_L_train.iloc[:,-11:-1].drop(drop_name,axis=1).values"
   ]
  },
  {
   "cell_type": "code",
   "execution_count": 545,
   "metadata": {},
   "outputs": [],
   "source": [
    "from flyingsquid.label_model import LabelModel"
   ]
  },
  {
   "cell_type": "code",
   "execution_count": 546,
   "metadata": {},
   "outputs": [],
   "source": [
    "# m = 10\n",
    "m = 5\n",
    "\n",
    "label_model = LabelModel(m)"
   ]
  },
  {
   "cell_type": "code",
   "execution_count": 547,
   "metadata": {},
   "outputs": [],
   "source": [
    "label_model.fit(L_train)"
   ]
  },
  {
   "cell_type": "code",
   "execution_count": 548,
   "metadata": {},
   "outputs": [
    {
     "data": {
      "text/plain": [
       "0.8115615615615616"
      ]
     },
     "execution_count": 548,
     "metadata": {},
     "output_type": "execute_result"
    }
   ],
   "source": [
    "preds = label_model.predict(L_dev).reshape(Y_dev.shape)\n",
    "accuracy = np.sum(preds == Y_dev) / Y_dev.shape[0]\n",
    "\n",
    "# print('Label model accuracy: {}%'.format(int(100 * accuracy)))\n",
    "f1_score(Y_dev,preds)"
   ]
  },
  {
   "cell_type": "code",
   "execution_count": 494,
   "metadata": {},
   "outputs": [
    {
     "data": {
      "text/plain": [
       "0.8091317365269461"
      ]
     },
     "execution_count": 494,
     "metadata": {},
     "output_type": "execute_result"
    }
   ],
   "source": [
    "precision_score(Y_dev,preds)"
   ]
  },
  {
   "cell_type": "code",
   "execution_count": 495,
   "metadata": {},
   "outputs": [
    {
     "data": {
      "text/plain": [
       "0.8140060240963856"
      ]
     },
     "execution_count": 495,
     "metadata": {},
     "output_type": "execute_result"
    }
   ],
   "source": [
    "recall_score(Y_dev,preds)"
   ]
  },
  {
   "cell_type": "code",
   "execution_count": 496,
   "metadata": {},
   "outputs": [
    {
     "data": {
      "text/plain": [
       "0.8100789770590447"
      ]
     },
     "execution_count": 496,
     "metadata": {},
     "output_type": "execute_result"
    }
   ],
   "source": [
    "majority_vote_preds = np.array([1 if pred > 0 else -1 for pred in np.sum(L_dev, axis=1)])\n",
    "majority_vote_accuracy = np.sum(majority_vote_preds == Y_dev) / Y_dev.shape[0]\n",
    "\n",
    "# print('Majority vote accuracy: {}%'.format(int(100 * majority_vote_accuracy)))\n",
    "f1_score(Y_dev,majority_vote_preds)"
   ]
  },
  {
   "cell_type": "code",
   "execution_count": null,
   "metadata": {},
   "outputs": [],
   "source": []
  },
  {
   "cell_type": "code",
   "execution_count": 75,
   "metadata": {},
   "outputs": [],
   "source": [
    "# df_inconsistency[\"snorkel_predict\"] = preds\n",
    "# df_inconsistency.snorkel_predict=df_inconsistency.apply(lambda x: 0 if x.snorkel_predict==-1 else 1, axis=1)"
   ]
  },
  {
   "cell_type": "code",
   "execution_count": 76,
   "metadata": {},
   "outputs": [
    {
     "data": {
      "text/html": [
       "<div>\n",
       "<style scoped>\n",
       "    .dataframe tbody tr th:only-of-type {\n",
       "        vertical-align: middle;\n",
       "    }\n",
       "\n",
       "    .dataframe tbody tr th {\n",
       "        vertical-align: top;\n",
       "    }\n",
       "\n",
       "    .dataframe thead th {\n",
       "        text-align: right;\n",
       "    }\n",
       "</style>\n",
       "<table border=\"1\" class=\"dataframe\">\n",
       "  <thead>\n",
       "    <tr style=\"text-align: right;\">\n",
       "      <th></th>\n",
       "      <th>undermine_score</th>\n",
       "      <th>support_score</th>\n",
       "      <th>cp_distance</th>\n",
       "      <th>cop_distance</th>\n",
       "      <th>predict_label</th>\n",
       "      <th>distance_label</th>\n",
       "      <th>gold</th>\n",
       "      <th>snorkel_logits_17</th>\n",
       "      <th>snorkel_logits_37</th>\n",
       "      <th>snorkel_logits_57</th>\n",
       "      <th>snorkel_logits_77</th>\n",
       "      <th>snorkel_logits_97</th>\n",
       "      <th>snorkel_distance_01</th>\n",
       "      <th>snorkel_distance_03</th>\n",
       "      <th>snorkel_distance_05</th>\n",
       "      <th>snorkel_distance_07</th>\n",
       "      <th>snorkel_distance_09</th>\n",
       "      <th>snorkel_label</th>\n",
       "      <th>snorkel_predict</th>\n",
       "    </tr>\n",
       "  </thead>\n",
       "  <tbody>\n",
       "    <tr>\n",
       "      <th>0</th>\n",
       "      <td>-4.223587</td>\n",
       "      <td>3.430138</td>\n",
       "      <td>0.020014</td>\n",
       "      <td>0.012879</td>\n",
       "      <td>1</td>\n",
       "      <td>0</td>\n",
       "      <td>1</td>\n",
       "      <td>1.0</td>\n",
       "      <td>1.0</td>\n",
       "      <td>0.0</td>\n",
       "      <td>0.0</td>\n",
       "      <td>0.0</td>\n",
       "      <td>0.0</td>\n",
       "      <td>0.0</td>\n",
       "      <td>0.0</td>\n",
       "      <td>0.0</td>\n",
       "      <td>0.0</td>\n",
       "      <td>1</td>\n",
       "      <td>1</td>\n",
       "    </tr>\n",
       "    <tr>\n",
       "      <th>1</th>\n",
       "      <td>4.980137</td>\n",
       "      <td>-5.918371</td>\n",
       "      <td>1.923178</td>\n",
       "      <td>0.001339</td>\n",
       "      <td>0</td>\n",
       "      <td>0</td>\n",
       "      <td>0</td>\n",
       "      <td>-1.0</td>\n",
       "      <td>-1.0</td>\n",
       "      <td>-1.0</td>\n",
       "      <td>0.0</td>\n",
       "      <td>0.0</td>\n",
       "      <td>-1.0</td>\n",
       "      <td>-1.0</td>\n",
       "      <td>-1.0</td>\n",
       "      <td>-1.0</td>\n",
       "      <td>-1.0</td>\n",
       "      <td>-1</td>\n",
       "      <td>0</td>\n",
       "    </tr>\n",
       "    <tr>\n",
       "      <th>2</th>\n",
       "      <td>-4.051531</td>\n",
       "      <td>3.098645</td>\n",
       "      <td>0.004558</td>\n",
       "      <td>0.010478</td>\n",
       "      <td>1</td>\n",
       "      <td>1</td>\n",
       "      <td>1</td>\n",
       "      <td>1.0</td>\n",
       "      <td>1.0</td>\n",
       "      <td>0.0</td>\n",
       "      <td>0.0</td>\n",
       "      <td>0.0</td>\n",
       "      <td>0.0</td>\n",
       "      <td>0.0</td>\n",
       "      <td>0.0</td>\n",
       "      <td>0.0</td>\n",
       "      <td>0.0</td>\n",
       "      <td>1</td>\n",
       "      <td>1</td>\n",
       "    </tr>\n",
       "    <tr>\n",
       "      <th>3</th>\n",
       "      <td>-1.659985</td>\n",
       "      <td>2.563246</td>\n",
       "      <td>0.277413</td>\n",
       "      <td>0.157976</td>\n",
       "      <td>1</td>\n",
       "      <td>0</td>\n",
       "      <td>1</td>\n",
       "      <td>0.0</td>\n",
       "      <td>0.0</td>\n",
       "      <td>0.0</td>\n",
       "      <td>0.0</td>\n",
       "      <td>0.0</td>\n",
       "      <td>-1.0</td>\n",
       "      <td>0.0</td>\n",
       "      <td>0.0</td>\n",
       "      <td>0.0</td>\n",
       "      <td>0.0</td>\n",
       "      <td>1</td>\n",
       "      <td>0</td>\n",
       "    </tr>\n",
       "    <tr>\n",
       "      <th>4</th>\n",
       "      <td>-1.103358</td>\n",
       "      <td>5.317815</td>\n",
       "      <td>0.293655</td>\n",
       "      <td>1.842567</td>\n",
       "      <td>1</td>\n",
       "      <td>1</td>\n",
       "      <td>1</td>\n",
       "      <td>1.0</td>\n",
       "      <td>1.0</td>\n",
       "      <td>0.0</td>\n",
       "      <td>0.0</td>\n",
       "      <td>0.0</td>\n",
       "      <td>1.0</td>\n",
       "      <td>1.0</td>\n",
       "      <td>1.0</td>\n",
       "      <td>1.0</td>\n",
       "      <td>0.0</td>\n",
       "      <td>1</td>\n",
       "      <td>1</td>\n",
       "    </tr>\n",
       "    <tr>\n",
       "      <th>...</th>\n",
       "      <td>...</td>\n",
       "      <td>...</td>\n",
       "      <td>...</td>\n",
       "      <td>...</td>\n",
       "      <td>...</td>\n",
       "      <td>...</td>\n",
       "      <td>...</td>\n",
       "      <td>...</td>\n",
       "      <td>...</td>\n",
       "      <td>...</td>\n",
       "      <td>...</td>\n",
       "      <td>...</td>\n",
       "      <td>...</td>\n",
       "      <td>...</td>\n",
       "      <td>...</td>\n",
       "      <td>...</td>\n",
       "      <td>...</td>\n",
       "      <td>...</td>\n",
       "      <td>...</td>\n",
       "    </tr>\n",
       "    <tr>\n",
       "      <th>2522</th>\n",
       "      <td>2.155837</td>\n",
       "      <td>-1.537567</td>\n",
       "      <td>1.053408</td>\n",
       "      <td>0.922337</td>\n",
       "      <td>0</td>\n",
       "      <td>0</td>\n",
       "      <td>0</td>\n",
       "      <td>0.0</td>\n",
       "      <td>0.0</td>\n",
       "      <td>0.0</td>\n",
       "      <td>0.0</td>\n",
       "      <td>0.0</td>\n",
       "      <td>-1.0</td>\n",
       "      <td>0.0</td>\n",
       "      <td>0.0</td>\n",
       "      <td>0.0</td>\n",
       "      <td>0.0</td>\n",
       "      <td>-1</td>\n",
       "      <td>0</td>\n",
       "    </tr>\n",
       "    <tr>\n",
       "      <th>2523</th>\n",
       "      <td>6.712749</td>\n",
       "      <td>-5.522651</td>\n",
       "      <td>1.332932</td>\n",
       "      <td>0.112898</td>\n",
       "      <td>0</td>\n",
       "      <td>0</td>\n",
       "      <td>0</td>\n",
       "      <td>-1.0</td>\n",
       "      <td>-1.0</td>\n",
       "      <td>-1.0</td>\n",
       "      <td>-1.0</td>\n",
       "      <td>0.0</td>\n",
       "      <td>-1.0</td>\n",
       "      <td>-1.0</td>\n",
       "      <td>-1.0</td>\n",
       "      <td>0.0</td>\n",
       "      <td>0.0</td>\n",
       "      <td>-1</td>\n",
       "      <td>0</td>\n",
       "    </tr>\n",
       "    <tr>\n",
       "      <th>2524</th>\n",
       "      <td>-2.778294</td>\n",
       "      <td>2.587539</td>\n",
       "      <td>0.518143</td>\n",
       "      <td>1.368011</td>\n",
       "      <td>1</td>\n",
       "      <td>1</td>\n",
       "      <td>1</td>\n",
       "      <td>1.0</td>\n",
       "      <td>0.0</td>\n",
       "      <td>0.0</td>\n",
       "      <td>0.0</td>\n",
       "      <td>0.0</td>\n",
       "      <td>1.0</td>\n",
       "      <td>1.0</td>\n",
       "      <td>0.0</td>\n",
       "      <td>0.0</td>\n",
       "      <td>0.0</td>\n",
       "      <td>1</td>\n",
       "      <td>1</td>\n",
       "    </tr>\n",
       "    <tr>\n",
       "      <th>2525</th>\n",
       "      <td>-3.157147</td>\n",
       "      <td>3.050995</td>\n",
       "      <td>0.483791</td>\n",
       "      <td>1.372143</td>\n",
       "      <td>1</td>\n",
       "      <td>1</td>\n",
       "      <td>1</td>\n",
       "      <td>1.0</td>\n",
       "      <td>1.0</td>\n",
       "      <td>0.0</td>\n",
       "      <td>0.0</td>\n",
       "      <td>0.0</td>\n",
       "      <td>1.0</td>\n",
       "      <td>1.0</td>\n",
       "      <td>0.0</td>\n",
       "      <td>0.0</td>\n",
       "      <td>0.0</td>\n",
       "      <td>1</td>\n",
       "      <td>1</td>\n",
       "    </tr>\n",
       "    <tr>\n",
       "      <th>2526</th>\n",
       "      <td>0.692743</td>\n",
       "      <td>0.942525</td>\n",
       "      <td>0.609729</td>\n",
       "      <td>0.659963</td>\n",
       "      <td>1</td>\n",
       "      <td>1</td>\n",
       "      <td>1</td>\n",
       "      <td>0.0</td>\n",
       "      <td>0.0</td>\n",
       "      <td>0.0</td>\n",
       "      <td>0.0</td>\n",
       "      <td>0.0</td>\n",
       "      <td>1.0</td>\n",
       "      <td>0.0</td>\n",
       "      <td>0.0</td>\n",
       "      <td>0.0</td>\n",
       "      <td>0.0</td>\n",
       "      <td>1</td>\n",
       "      <td>1</td>\n",
       "    </tr>\n",
       "  </tbody>\n",
       "</table>\n",
       "<p>2527 rows × 19 columns</p>\n",
       "</div>"
      ],
      "text/plain": [
       "      undermine_score  support_score  cp_distance  cop_distance  \\\n",
       "0           -4.223587       3.430138     0.020014      0.012879   \n",
       "1            4.980137      -5.918371     1.923178      0.001339   \n",
       "2           -4.051531       3.098645     0.004558      0.010478   \n",
       "3           -1.659985       2.563246     0.277413      0.157976   \n",
       "4           -1.103358       5.317815     0.293655      1.842567   \n",
       "...               ...            ...          ...           ...   \n",
       "2522         2.155837      -1.537567     1.053408      0.922337   \n",
       "2523         6.712749      -5.522651     1.332932      0.112898   \n",
       "2524        -2.778294       2.587539     0.518143      1.368011   \n",
       "2525        -3.157147       3.050995     0.483791      1.372143   \n",
       "2526         0.692743       0.942525     0.609729      0.659963   \n",
       "\n",
       "      predict_label  distance_label  gold  snorkel_logits_17  \\\n",
       "0                 1               0     1                1.0   \n",
       "1                 0               0     0               -1.0   \n",
       "2                 1               1     1                1.0   \n",
       "3                 1               0     1                0.0   \n",
       "4                 1               1     1                1.0   \n",
       "...             ...             ...   ...                ...   \n",
       "2522              0               0     0                0.0   \n",
       "2523              0               0     0               -1.0   \n",
       "2524              1               1     1                1.0   \n",
       "2525              1               1     1                1.0   \n",
       "2526              1               1     1                0.0   \n",
       "\n",
       "      snorkel_logits_37  snorkel_logits_57  snorkel_logits_77  \\\n",
       "0                   1.0                0.0                0.0   \n",
       "1                  -1.0               -1.0                0.0   \n",
       "2                   1.0                0.0                0.0   \n",
       "3                   0.0                0.0                0.0   \n",
       "4                   1.0                0.0                0.0   \n",
       "...                 ...                ...                ...   \n",
       "2522                0.0                0.0                0.0   \n",
       "2523               -1.0               -1.0               -1.0   \n",
       "2524                0.0                0.0                0.0   \n",
       "2525                1.0                0.0                0.0   \n",
       "2526                0.0                0.0                0.0   \n",
       "\n",
       "      snorkel_logits_97  snorkel_distance_01  snorkel_distance_03  \\\n",
       "0                   0.0                  0.0                  0.0   \n",
       "1                   0.0                 -1.0                 -1.0   \n",
       "2                   0.0                  0.0                  0.0   \n",
       "3                   0.0                 -1.0                  0.0   \n",
       "4                   0.0                  1.0                  1.0   \n",
       "...                 ...                  ...                  ...   \n",
       "2522                0.0                 -1.0                  0.0   \n",
       "2523                0.0                 -1.0                 -1.0   \n",
       "2524                0.0                  1.0                  1.0   \n",
       "2525                0.0                  1.0                  1.0   \n",
       "2526                0.0                  1.0                  0.0   \n",
       "\n",
       "      snorkel_distance_05  snorkel_distance_07  snorkel_distance_09  \\\n",
       "0                     0.0                  0.0                  0.0   \n",
       "1                    -1.0                 -1.0                 -1.0   \n",
       "2                     0.0                  0.0                  0.0   \n",
       "3                     0.0                  0.0                  0.0   \n",
       "4                     1.0                  1.0                  0.0   \n",
       "...                   ...                  ...                  ...   \n",
       "2522                  0.0                  0.0                  0.0   \n",
       "2523                 -1.0                  0.0                  0.0   \n",
       "2524                  0.0                  0.0                  0.0   \n",
       "2525                  0.0                  0.0                  0.0   \n",
       "2526                  0.0                  0.0                  0.0   \n",
       "\n",
       "      snorkel_label  snorkel_predict  \n",
       "0                 1                1  \n",
       "1                -1                0  \n",
       "2                 1                1  \n",
       "3                 1                0  \n",
       "4                 1                1  \n",
       "...             ...              ...  \n",
       "2522             -1                0  \n",
       "2523             -1                0  \n",
       "2524              1                1  \n",
       "2525              1                1  \n",
       "2526              1                1  \n",
       "\n",
       "[2527 rows x 19 columns]"
      ]
     },
     "execution_count": 76,
     "metadata": {},
     "output_type": "execute_result"
    }
   ],
   "source": [
    "# df_inconsistency"
   ]
  },
  {
   "cell_type": "code",
   "execution_count": 6972,
   "metadata": {},
   "outputs": [
    {
     "data": {
      "text/plain": [
       "0.8115615615615616"
      ]
     },
     "execution_count": 6972,
     "metadata": {},
     "output_type": "execute_result"
    }
   ],
   "source": [
    "# f1_score(df_inconsistency.gold,df_inconsistency.snorkel_predict)"
   ]
  },
  {
   "cell_type": "code",
   "execution_count": 6973,
   "metadata": {},
   "outputs": [
    {
     "data": {
      "text/plain": [
       "0.8091317365269461"
      ]
     },
     "execution_count": 6973,
     "metadata": {},
     "output_type": "execute_result"
    }
   ],
   "source": [
    "# precision_score(df_inconsistency.gold,df_inconsistency.snorkel_predict)"
   ]
  },
  {
   "cell_type": "code",
   "execution_count": 6974,
   "metadata": {},
   "outputs": [
    {
     "data": {
      "text/plain": [
       "0.8140060240963856"
      ]
     },
     "execution_count": 6974,
     "metadata": {},
     "output_type": "execute_result"
    }
   ],
   "source": [
    "# recall_score(df_inconsistency.gold,df_inconsistency.snorkel_predict)"
   ]
  },
  {
   "cell_type": "code",
   "execution_count": 6976,
   "metadata": {},
   "outputs": [],
   "source": [
    "# df_inconsistency.to_csv(\"./paper_out/SCAR505586111300102111519_eval_result.csv\",index=False)"
   ]
  },
  {
   "cell_type": "code",
   "execution_count": null,
   "metadata": {},
   "outputs": [],
   "source": []
  },
  {
   "cell_type": "markdown",
   "metadata": {},
   "source": [
    "L1"
   ]
  },
  {
   "cell_type": "code",
   "execution_count": 81,
   "metadata": {},
   "outputs": [
    {
     "name": "stdout",
     "output_type": "stream",
     "text": [
      "0.8102217211574596 0.808702175543886 0.8117469879518072\n"
     ]
    }
   ],
   "source": [
    "print(f1_score(Y_dev,preds),\n",
    "precision_score(Y_dev,preds),\n",
    "recall_score(Y_dev,preds))"
   ]
  },
  {
   "cell_type": "markdown",
   "metadata": {},
   "source": [
    "L2"
   ]
  },
  {
   "cell_type": "code",
   "execution_count": 238,
   "metadata": {},
   "outputs": [
    {
     "name": "stdout",
     "output_type": "stream",
     "text": [
      "0.8015267175572519 0.8126934984520123 0.7906626506024096\n"
     ]
    }
   ],
   "source": [
    "print(f1_score(Y_dev,preds),\n",
    "precision_score(Y_dev,preds),\n",
    "recall_score(Y_dev,preds))"
   ]
  },
  {
   "cell_type": "markdown",
   "metadata": {},
   "source": [
    "L3"
   ]
  },
  {
   "cell_type": "code",
   "execution_count": 257,
   "metadata": {},
   "outputs": [
    {
     "name": "stdout",
     "output_type": "stream",
     "text": [
      "0.8115615615615616 0.8091317365269461 0.8140060240963856\n"
     ]
    }
   ],
   "source": [
    "print(f1_score(Y_dev,preds),\n",
    "precision_score(Y_dev,preds),\n",
    "recall_score(Y_dev,preds))"
   ]
  },
  {
   "cell_type": "markdown",
   "metadata": {},
   "source": [
    "L4"
   ]
  },
  {
   "cell_type": "code",
   "execution_count": 309,
   "metadata": {},
   "outputs": [
    {
     "name": "stdout",
     "output_type": "stream",
     "text": [
      "0.8115615615615616 0.8091317365269461 0.8140060240963856\n"
     ]
    }
   ],
   "source": [
    "print(f1_score(Y_dev,preds),\n",
    "precision_score(Y_dev,preds),\n",
    "recall_score(Y_dev,preds))"
   ]
  },
  {
   "cell_type": "markdown",
   "metadata": {},
   "source": [
    "L5"
   ]
  },
  {
   "cell_type": "code",
   "execution_count": 327,
   "metadata": {},
   "outputs": [
    {
     "name": "stdout",
     "output_type": "stream",
     "text": [
      "0.8115615615615616 0.8091317365269461 0.8140060240963856\n"
     ]
    }
   ],
   "source": [
    "print(f1_score(Y_dev,preds),\n",
    "precision_score(Y_dev,preds),\n",
    "recall_score(Y_dev,preds))"
   ]
  },
  {
   "cell_type": "markdown",
   "metadata": {},
   "source": [
    "L6"
   ]
  },
  {
   "cell_type": "code",
   "execution_count": 344,
   "metadata": {},
   "outputs": [
    {
     "name": "stdout",
     "output_type": "stream",
     "text": [
      "0.8038095238095239 0.8134155744024673 0.7944277108433735\n"
     ]
    }
   ],
   "source": [
    "print(f1_score(Y_dev,preds),\n",
    "precision_score(Y_dev,preds),\n",
    "recall_score(Y_dev,preds))"
   ]
  },
  {
   "cell_type": "markdown",
   "metadata": {},
   "source": [
    "L7"
   ]
  },
  {
   "cell_type": "code",
   "execution_count": 362,
   "metadata": {},
   "outputs": [
    {
     "name": "stdout",
     "output_type": "stream",
     "text": [
      "0.8099173553719008 0.808095952023988 0.8117469879518072\n"
     ]
    }
   ],
   "source": [
    "print(f1_score(Y_dev,preds),\n",
    "precision_score(Y_dev,preds),\n",
    "recall_score(Y_dev,preds))"
   ]
  },
  {
   "cell_type": "markdown",
   "metadata": {},
   "source": [
    "L8"
   ]
  },
  {
   "cell_type": "code",
   "execution_count": 380,
   "metadata": {},
   "outputs": [
    {
     "name": "stdout",
     "output_type": "stream",
     "text": [
      "0.8115615615615616 0.8091317365269461 0.8140060240963856\n"
     ]
    }
   ],
   "source": [
    "print(f1_score(Y_dev,preds),\n",
    "precision_score(Y_dev,preds),\n",
    "recall_score(Y_dev,preds))"
   ]
  },
  {
   "cell_type": "markdown",
   "metadata": {},
   "source": [
    "L9"
   ]
  },
  {
   "cell_type": "code",
   "execution_count": 398,
   "metadata": {},
   "outputs": [
    {
     "name": "stdout",
     "output_type": "stream",
     "text": [
      "0.8115615615615616 0.8091317365269461 0.8140060240963856\n"
     ]
    }
   ],
   "source": [
    "print(f1_score(Y_dev,preds),\n",
    "precision_score(Y_dev,preds),\n",
    "recall_score(Y_dev,preds))"
   ]
  },
  {
   "cell_type": "markdown",
   "metadata": {},
   "source": [
    "L10"
   ]
  },
  {
   "cell_type": "code",
   "execution_count": 416,
   "metadata": {},
   "outputs": [
    {
     "name": "stdout",
     "output_type": "stream",
     "text": [
      "0.8097744360902255 0.8085585585585585 0.8109939759036144\n"
     ]
    }
   ],
   "source": [
    "print(f1_score(Y_dev,preds),\n",
    "precision_score(Y_dev,preds),\n",
    "recall_score(Y_dev,preds))"
   ]
  },
  {
   "cell_type": "code",
   "execution_count": null,
   "metadata": {},
   "outputs": [],
   "source": []
  }
 ],
 "metadata": {
  "kernelspec": {
   "display_name": "TensorFlow-GPU",
   "language": "python",
   "name": "tf-gpu"
  },
  "language_info": {
   "codemirror_mode": {
    "name": "ipython",
    "version": 3
   },
   "file_extension": ".py",
   "mimetype": "text/x-python",
   "name": "python",
   "nbconvert_exporter": "python",
   "pygments_lexer": "ipython3",
   "version": "3.7.6"
  }
 },
 "nbformat": 4,
 "nbformat_minor": 2
}
