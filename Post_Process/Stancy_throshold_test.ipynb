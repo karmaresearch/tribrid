{
 "cells": [
  {
   "cell_type": "code",
   "execution_count": 2,
   "metadata": {},
   "outputs": [],
   "source": [
    "import pandas as pd\n",
    "import numpy as np"
   ]
  },
  {
   "cell_type": "markdown",
   "metadata": {},
   "source": [
    "## stancy critical assessment\n"
   ]
  },
  {
   "cell_type": "code",
   "execution_count": 3,
   "metadata": {},
   "outputs": [],
   "source": [
    "df_results = pd.read_csv(\"../Evaluation/stancy_epoch5_raw_score.csv\")"
   ]
  },
  {
   "cell_type": "code",
   "execution_count": 4,
   "metadata": {},
   "outputs": [],
   "source": [
    "df_final=df_results"
   ]
  },
  {
   "cell_type": "code",
   "execution_count": 5,
   "metadata": {},
   "outputs": [
    {
     "data": {
      "text/html": [
       "<div>\n",
       "<style scoped>\n",
       "    .dataframe tbody tr th:only-of-type {\n",
       "        vertical-align: middle;\n",
       "    }\n",
       "\n",
       "    .dataframe tbody tr th {\n",
       "        vertical-align: top;\n",
       "    }\n",
       "\n",
       "    .dataframe thead th {\n",
       "        text-align: right;\n",
       "    }\n",
       "</style>\n",
       "<table border=\"1\" class=\"dataframe\">\n",
       "  <thead>\n",
       "    <tr style=\"text-align: right;\">\n",
       "      <th></th>\n",
       "      <th>undermine_score</th>\n",
       "      <th>support_score</th>\n",
       "      <th>predict_label</th>\n",
       "      <th>gold</th>\n",
       "    </tr>\n",
       "  </thead>\n",
       "  <tbody>\n",
       "    <tr>\n",
       "      <th>0</th>\n",
       "      <td>-3.298447</td>\n",
       "      <td>3.252912</td>\n",
       "      <td>1</td>\n",
       "      <td>1</td>\n",
       "    </tr>\n",
       "    <tr>\n",
       "      <th>1</th>\n",
       "      <td>3.847457</td>\n",
       "      <td>-3.262123</td>\n",
       "      <td>0</td>\n",
       "      <td>0</td>\n",
       "    </tr>\n",
       "    <tr>\n",
       "      <th>2</th>\n",
       "      <td>-3.267502</td>\n",
       "      <td>3.174200</td>\n",
       "      <td>1</td>\n",
       "      <td>1</td>\n",
       "    </tr>\n",
       "    <tr>\n",
       "      <th>3</th>\n",
       "      <td>-3.226553</td>\n",
       "      <td>3.147269</td>\n",
       "      <td>1</td>\n",
       "      <td>1</td>\n",
       "    </tr>\n",
       "    <tr>\n",
       "      <th>4</th>\n",
       "      <td>-3.088458</td>\n",
       "      <td>2.970518</td>\n",
       "      <td>1</td>\n",
       "      <td>1</td>\n",
       "    </tr>\n",
       "    <tr>\n",
       "      <th>...</th>\n",
       "      <td>...</td>\n",
       "      <td>...</td>\n",
       "      <td>...</td>\n",
       "      <td>...</td>\n",
       "    </tr>\n",
       "    <tr>\n",
       "      <th>2768</th>\n",
       "      <td>2.061727</td>\n",
       "      <td>-1.558688</td>\n",
       "      <td>0</td>\n",
       "      <td>0</td>\n",
       "    </tr>\n",
       "    <tr>\n",
       "      <th>2769</th>\n",
       "      <td>1.699087</td>\n",
       "      <td>-1.463090</td>\n",
       "      <td>0</td>\n",
       "      <td>0</td>\n",
       "    </tr>\n",
       "    <tr>\n",
       "      <th>2770</th>\n",
       "      <td>-1.879320</td>\n",
       "      <td>1.803434</td>\n",
       "      <td>1</td>\n",
       "      <td>1</td>\n",
       "    </tr>\n",
       "    <tr>\n",
       "      <th>2771</th>\n",
       "      <td>2.407053</td>\n",
       "      <td>-1.869287</td>\n",
       "      <td>0</td>\n",
       "      <td>1</td>\n",
       "    </tr>\n",
       "    <tr>\n",
       "      <th>2772</th>\n",
       "      <td>-3.018865</td>\n",
       "      <td>2.861231</td>\n",
       "      <td>1</td>\n",
       "      <td>1</td>\n",
       "    </tr>\n",
       "  </tbody>\n",
       "</table>\n",
       "<p>2773 rows × 4 columns</p>\n",
       "</div>"
      ],
      "text/plain": [
       "      undermine_score  support_score  predict_label  gold\n",
       "0           -3.298447       3.252912              1     1\n",
       "1            3.847457      -3.262123              0     0\n",
       "2           -3.267502       3.174200              1     1\n",
       "3           -3.226553       3.147269              1     1\n",
       "4           -3.088458       2.970518              1     1\n",
       "...               ...            ...            ...   ...\n",
       "2768         2.061727      -1.558688              0     0\n",
       "2769         1.699087      -1.463090              0     0\n",
       "2770        -1.879320       1.803434              1     1\n",
       "2771         2.407053      -1.869287              0     1\n",
       "2772        -3.018865       2.861231              1     1\n",
       "\n",
       "[2773 rows x 4 columns]"
      ]
     },
     "execution_count": 5,
     "metadata": {},
     "output_type": "execute_result"
    }
   ],
   "source": [
    "df_final"
   ]
  },
  {
   "cell_type": "code",
   "execution_count": 6,
   "metadata": {},
   "outputs": [],
   "source": [
    "from sklearn.metrics import accuracy_score,f1_score,recall_score,precision_score"
   ]
  },
  {
   "cell_type": "code",
   "execution_count": 7,
   "metadata": {},
   "outputs": [
    {
     "data": {
      "text/plain": [
       "0.7732441471571906"
      ]
     },
     "execution_count": 7,
     "metadata": {},
     "output_type": "execute_result"
    }
   ],
   "source": [
    "f1_score(df_final.gold,df_final.predict_label)"
   ]
  },
  {
   "cell_type": "code",
   "execution_count": 8,
   "metadata": {},
   "outputs": [
    {
     "data": {
      "text/plain": [
       "0.761026991441738"
      ]
     },
     "execution_count": 8,
     "metadata": {},
     "output_type": "execute_result"
    }
   ],
   "source": [
    "precision_score(df_final.gold,df_final.predict_label)"
   ]
  },
  {
   "cell_type": "code",
   "execution_count": 9,
   "metadata": {},
   "outputs": [
    {
     "data": {
      "text/plain": [
       "0.7858599592114208"
      ]
     },
     "execution_count": 9,
     "metadata": {},
     "output_type": "execute_result"
    }
   ],
   "source": [
    "recall_score(df_final.gold,df_final.predict_label)"
   ]
  },
  {
   "cell_type": "code",
   "execution_count": 10,
   "metadata": {},
   "outputs": [
    {
     "data": {
      "text/plain": [
       "array([3.6424792 , 5.56614255, 6.1966165 , 6.44254715, 6.5695213 ,\n",
       "       6.687718  , 6.9646743 , 7.6376425 , 8.10043095])"
      ]
     },
     "execution_count": 10,
     "metadata": {},
     "output_type": "execute_result"
    }
   ],
   "source": [
    "percentile = np.percentile(abs(df_final.undermine_score-df_final.support_score), (10,20,30,40,50,60,70,80,90), interpolation='midpoint')\n",
    "percentile"
   ]
  },
  {
   "cell_type": "code",
   "execution_count": 11,
   "metadata": {},
   "outputs": [
    {
     "data": {
      "text/plain": [
       "7.6376425"
      ]
     },
     "execution_count": 11,
     "metadata": {},
     "output_type": "execute_result"
    }
   ],
   "source": [
    "percentile[7]"
   ]
  },
  {
   "cell_type": "code",
   "execution_count": 19,
   "metadata": {},
   "outputs": [],
   "source": [
    "df_final_threshold = df_final[abs(df_final.undermine_score-df_final.support_score)>percentile[8]]\n",
    "# df_final_threshold = df_final[abs(df_final.cp_distance-df_final.cop_distance)>0]"
   ]
  },
  {
   "cell_type": "code",
   "execution_count": 20,
   "metadata": {},
   "outputs": [
    {
     "data": {
      "text/html": [
       "<div>\n",
       "<style scoped>\n",
       "    .dataframe tbody tr th:only-of-type {\n",
       "        vertical-align: middle;\n",
       "    }\n",
       "\n",
       "    .dataframe tbody tr th {\n",
       "        vertical-align: top;\n",
       "    }\n",
       "\n",
       "    .dataframe thead th {\n",
       "        text-align: right;\n",
       "    }\n",
       "</style>\n",
       "<table border=\"1\" class=\"dataframe\">\n",
       "  <thead>\n",
       "    <tr style=\"text-align: right;\">\n",
       "      <th></th>\n",
       "      <th>undermine_score</th>\n",
       "      <th>support_score</th>\n",
       "      <th>predict_label</th>\n",
       "      <th>gold</th>\n",
       "    </tr>\n",
       "  </thead>\n",
       "  <tbody>\n",
       "    <tr>\n",
       "      <th>14</th>\n",
       "      <td>4.393428</td>\n",
       "      <td>-3.880003</td>\n",
       "      <td>0</td>\n",
       "      <td>0</td>\n",
       "    </tr>\n",
       "    <tr>\n",
       "      <th>15</th>\n",
       "      <td>4.337420</td>\n",
       "      <td>-3.801549</td>\n",
       "      <td>0</td>\n",
       "      <td>0</td>\n",
       "    </tr>\n",
       "    <tr>\n",
       "      <th>17</th>\n",
       "      <td>4.393428</td>\n",
       "      <td>-3.880003</td>\n",
       "      <td>0</td>\n",
       "      <td>0</td>\n",
       "    </tr>\n",
       "    <tr>\n",
       "      <th>18</th>\n",
       "      <td>4.465372</td>\n",
       "      <td>-3.819673</td>\n",
       "      <td>0</td>\n",
       "      <td>0</td>\n",
       "    </tr>\n",
       "    <tr>\n",
       "      <th>20</th>\n",
       "      <td>4.407632</td>\n",
       "      <td>-3.795393</td>\n",
       "      <td>0</td>\n",
       "      <td>0</td>\n",
       "    </tr>\n",
       "    <tr>\n",
       "      <th>...</th>\n",
       "      <td>...</td>\n",
       "      <td>...</td>\n",
       "      <td>...</td>\n",
       "      <td>...</td>\n",
       "    </tr>\n",
       "    <tr>\n",
       "      <th>2701</th>\n",
       "      <td>4.429237</td>\n",
       "      <td>-3.824474</td>\n",
       "      <td>0</td>\n",
       "      <td>0</td>\n",
       "    </tr>\n",
       "    <tr>\n",
       "      <th>2702</th>\n",
       "      <td>4.401361</td>\n",
       "      <td>-3.855954</td>\n",
       "      <td>0</td>\n",
       "      <td>0</td>\n",
       "    </tr>\n",
       "    <tr>\n",
       "      <th>2718</th>\n",
       "      <td>4.366290</td>\n",
       "      <td>-3.819374</td>\n",
       "      <td>0</td>\n",
       "      <td>0</td>\n",
       "    </tr>\n",
       "    <tr>\n",
       "      <th>2747</th>\n",
       "      <td>4.369420</td>\n",
       "      <td>-3.805042</td>\n",
       "      <td>0</td>\n",
       "      <td>0</td>\n",
       "    </tr>\n",
       "    <tr>\n",
       "      <th>2752</th>\n",
       "      <td>4.369130</td>\n",
       "      <td>-3.811136</td>\n",
       "      <td>0</td>\n",
       "      <td>0</td>\n",
       "    </tr>\n",
       "  </tbody>\n",
       "</table>\n",
       "<p>278 rows × 4 columns</p>\n",
       "</div>"
      ],
      "text/plain": [
       "      undermine_score  support_score  predict_label  gold\n",
       "14           4.393428      -3.880003              0     0\n",
       "15           4.337420      -3.801549              0     0\n",
       "17           4.393428      -3.880003              0     0\n",
       "18           4.465372      -3.819673              0     0\n",
       "20           4.407632      -3.795393              0     0\n",
       "...               ...            ...            ...   ...\n",
       "2701         4.429237      -3.824474              0     0\n",
       "2702         4.401361      -3.855954              0     0\n",
       "2718         4.366290      -3.819374              0     0\n",
       "2747         4.369420      -3.805042              0     0\n",
       "2752         4.369130      -3.811136              0     0\n",
       "\n",
       "[278 rows x 4 columns]"
      ]
     },
     "execution_count": 20,
     "metadata": {},
     "output_type": "execute_result"
    }
   ],
   "source": [
    "df_final_threshold"
   ]
  },
  {
   "cell_type": "code",
   "execution_count": 62,
   "metadata": {},
   "outputs": [
    {
     "name": "stdout",
     "output_type": "stream",
     "text": [
      "0.7941397445529677 0.7823834196891192 0.8062547673531655\n"
     ]
    }
   ],
   "source": [
    "print(f1_score(df_final_threshold.gold,df_final_threshold.predict_label),\n",
    "precision_score(df_final_threshold.gold,df_final_threshold.predict_label),\n",
    "recall_score(df_final_threshold.gold,df_final_threshold.predict_label))"
   ]
  },
  {
   "cell_type": "code",
   "execution_count": 65,
   "metadata": {},
   "outputs": [
    {
     "name": "stdout",
     "output_type": "stream",
     "text": [
      "0.8145922746781116 0.8111111111111111 0.8181034482758621\n"
     ]
    }
   ],
   "source": [
    "print(f1_score(df_final_threshold.gold,df_final_threshold.predict_label),\n",
    "precision_score(df_final_threshold.gold,df_final_threshold.predict_label),\n",
    "recall_score(df_final_threshold.gold,df_final_threshold.predict_label))"
   ]
  },
  {
   "cell_type": "code",
   "execution_count": 68,
   "metadata": {},
   "outputs": [
    {
     "name": "stdout",
     "output_type": "stream",
     "text": [
      "0.8290946083418107 0.8463136033229491 0.8125623130608175\n"
     ]
    }
   ],
   "source": [
    "print(f1_score(df_final_threshold.gold,df_final_threshold.predict_label),\n",
    "precision_score(df_final_threshold.gold,df_final_threshold.predict_label),\n",
    "recall_score(df_final_threshold.gold,df_final_threshold.predict_label))"
   ]
  },
  {
   "cell_type": "code",
   "execution_count": 72,
   "metadata": {},
   "outputs": [
    {
     "name": "stdout",
     "output_type": "stream",
     "text": [
      "0.8274950429610046 0.8816901408450705 0.7795765877957659\n"
     ]
    }
   ],
   "source": [
    "print(f1_score(df_final_threshold.gold,df_final_threshold.predict_label),\n",
    "precision_score(df_final_threshold.gold,df_final_threshold.predict_label),\n",
    "recall_score(df_final_threshold.gold,df_final_threshold.predict_label))"
   ]
  },
  {
   "cell_type": "code",
   "execution_count": 75,
   "metadata": {},
   "outputs": [
    {
     "name": "stdout",
     "output_type": "stream",
     "text": [
      "0.7992315081652258 0.906318082788671 0.7147766323024055\n"
     ]
    }
   ],
   "source": [
    "print(f1_score(df_final_threshold.gold,df_final_threshold.predict_label),\n",
    "precision_score(df_final_threshold.gold,df_final_threshold.predict_label),\n",
    "recall_score(df_final_threshold.gold,df_final_threshold.predict_label))"
   ]
  },
  {
   "cell_type": "code",
   "execution_count": 78,
   "metadata": {},
   "outputs": [
    {
     "name": "stdout",
     "output_type": "stream",
     "text": [
      "0.6989247311827957 0.9558823529411765 0.5508474576271186\n"
     ]
    }
   ],
   "source": [
    "print(f1_score(df_final_threshold.gold,df_final_threshold.predict_label),\n",
    "precision_score(df_final_threshold.gold,df_final_threshold.predict_label),\n",
    "recall_score(df_final_threshold.gold,df_final_threshold.predict_label))"
   ]
  },
  {
   "cell_type": "code",
   "execution_count": 100,
   "metadata": {},
   "outputs": [
    {
     "name": "stdout",
     "output_type": "stream",
     "text": [
      "0.014814814814814815 1.0 0.007462686567164179 0.8401442307692307\n"
     ]
    }
   ],
   "source": [
    "print(f1_score(df_final_threshold.gold,df_final_threshold.predict_label),\n",
    "precision_score(df_final_threshold.gold,df_final_threshold.predict_label),\n",
    "recall_score(df_final_threshold.gold,df_final_threshold.predict_label))"
   ]
  },
  {
   "cell_type": "code",
   "execution_count": 18,
   "metadata": {},
   "outputs": [
    {
     "name": "stdout",
     "output_type": "stream",
     "text": [
      "0.0 0.0 0.0\n"
     ]
    }
   ],
   "source": [
    "print(f1_score(df_final_threshold.gold,df_final_threshold.predict_label),\n",
    "precision_score(df_final_threshold.gold,df_final_threshold.predict_label),\n",
    "recall_score(df_final_threshold.gold,df_final_threshold.predict_label))\n"
   ]
  },
  {
   "cell_type": "code",
   "execution_count": 22,
   "metadata": {},
   "outputs": [
    {
     "name": "stdout",
     "output_type": "stream",
     "text": [
      "0.0 0.0 0.0\n"
     ]
    }
   ],
   "source": [
    "print(f1_score(df_final_threshold.gold,df_final_threshold.predict_label),\n",
    "precision_score(df_final_threshold.gold,df_final_threshold.predict_label),\n",
    "recall_score(df_final_threshold.gold,df_final_threshold.predict_label))"
   ]
  },
  {
   "cell_type": "code",
   "execution_count": null,
   "metadata": {},
   "outputs": [],
   "source": []
  }
 ],
 "metadata": {
  "kernelspec": {
   "display_name": "TensorFlow-GPU",
   "language": "python",
   "name": "tf-gpu"
  },
  "language_info": {
   "codemirror_mode": {
    "name": "ipython",
    "version": 3
   },
   "file_extension": ".py",
   "mimetype": "text/x-python",
   "name": "python",
   "nbconvert_exporter": "python",
   "pygments_lexer": "ipython3",
   "version": "3.7.6"
  }
 },
 "nbformat": 4,
 "nbformat_minor": 2
}
