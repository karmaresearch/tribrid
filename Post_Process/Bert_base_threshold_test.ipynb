{
 "cells": [
  {
   "cell_type": "code",
   "execution_count": 2,
   "metadata": {},
   "outputs": [],
   "source": [
    "import pandas as pd\n",
    "import numpy as np"
   ]
  },
  {
   "cell_type": "markdown",
   "metadata": {},
   "source": [
    "## Bert base critical assessment\n"
   ]
  },
  {
   "cell_type": "code",
   "execution_count": 3,
   "metadata": {},
   "outputs": [],
   "source": [
    "df_results = pd.read_csv(\"../Evaluation/bert_base_epoch5_raw_score.csv\")"
   ]
  },
  {
   "cell_type": "code",
   "execution_count": 43,
   "metadata": {},
   "outputs": [],
   "source": [
    "df_final=df_results"
   ]
  },
  {
   "cell_type": "code",
   "execution_count": 44,
   "metadata": {},
   "outputs": [
    {
     "data": {
      "text/html": [
       "<div>\n",
       "<style scoped>\n",
       "    .dataframe tbody tr th:only-of-type {\n",
       "        vertical-align: middle;\n",
       "    }\n",
       "\n",
       "    .dataframe tbody tr th {\n",
       "        vertical-align: top;\n",
       "    }\n",
       "\n",
       "    .dataframe thead th {\n",
       "        text-align: right;\n",
       "    }\n",
       "</style>\n",
       "<table border=\"1\" class=\"dataframe\">\n",
       "  <thead>\n",
       "    <tr style=\"text-align: right;\">\n",
       "      <th></th>\n",
       "      <th>undermine_score</th>\n",
       "      <th>support_score</th>\n",
       "      <th>predict_label</th>\n",
       "      <th>gold</th>\n",
       "    </tr>\n",
       "  </thead>\n",
       "  <tbody>\n",
       "    <tr>\n",
       "      <th>0</th>\n",
       "      <td>-1.406277</td>\n",
       "      <td>1.681480</td>\n",
       "      <td>1</td>\n",
       "      <td>1</td>\n",
       "    </tr>\n",
       "    <tr>\n",
       "      <th>1</th>\n",
       "      <td>-1.568123</td>\n",
       "      <td>2.129677</td>\n",
       "      <td>1</td>\n",
       "      <td>0</td>\n",
       "    </tr>\n",
       "    <tr>\n",
       "      <th>2</th>\n",
       "      <td>-2.825778</td>\n",
       "      <td>3.542665</td>\n",
       "      <td>1</td>\n",
       "      <td>1</td>\n",
       "    </tr>\n",
       "    <tr>\n",
       "      <th>3</th>\n",
       "      <td>-1.605859</td>\n",
       "      <td>1.971612</td>\n",
       "      <td>1</td>\n",
       "      <td>1</td>\n",
       "    </tr>\n",
       "    <tr>\n",
       "      <th>4</th>\n",
       "      <td>-1.932156</td>\n",
       "      <td>2.379100</td>\n",
       "      <td>1</td>\n",
       "      <td>1</td>\n",
       "    </tr>\n",
       "    <tr>\n",
       "      <th>...</th>\n",
       "      <td>...</td>\n",
       "      <td>...</td>\n",
       "      <td>...</td>\n",
       "      <td>...</td>\n",
       "    </tr>\n",
       "    <tr>\n",
       "      <th>2768</th>\n",
       "      <td>-0.478038</td>\n",
       "      <td>0.624620</td>\n",
       "      <td>1</td>\n",
       "      <td>0</td>\n",
       "    </tr>\n",
       "    <tr>\n",
       "      <th>2769</th>\n",
       "      <td>-2.317768</td>\n",
       "      <td>2.754284</td>\n",
       "      <td>1</td>\n",
       "      <td>0</td>\n",
       "    </tr>\n",
       "    <tr>\n",
       "      <th>2770</th>\n",
       "      <td>4.150797</td>\n",
       "      <td>-4.363125</td>\n",
       "      <td>0</td>\n",
       "      <td>1</td>\n",
       "    </tr>\n",
       "    <tr>\n",
       "      <th>2771</th>\n",
       "      <td>4.253913</td>\n",
       "      <td>-4.182820</td>\n",
       "      <td>0</td>\n",
       "      <td>1</td>\n",
       "    </tr>\n",
       "    <tr>\n",
       "      <th>2772</th>\n",
       "      <td>1.890408</td>\n",
       "      <td>-1.864657</td>\n",
       "      <td>0</td>\n",
       "      <td>1</td>\n",
       "    </tr>\n",
       "  </tbody>\n",
       "</table>\n",
       "<p>2773 rows × 4 columns</p>\n",
       "</div>"
      ],
      "text/plain": [
       "      undermine_score  support_score  predict_label  gold\n",
       "0           -1.406277       1.681480              1     1\n",
       "1           -1.568123       2.129677              1     0\n",
       "2           -2.825778       3.542665              1     1\n",
       "3           -1.605859       1.971612              1     1\n",
       "4           -1.932156       2.379100              1     1\n",
       "...               ...            ...            ...   ...\n",
       "2768        -0.478038       0.624620              1     0\n",
       "2769        -2.317768       2.754284              1     0\n",
       "2770         4.150797      -4.363125              0     1\n",
       "2771         4.253913      -4.182820              0     1\n",
       "2772         1.890408      -1.864657              0     1\n",
       "\n",
       "[2773 rows x 4 columns]"
      ]
     },
     "execution_count": 44,
     "metadata": {},
     "output_type": "execute_result"
    }
   ],
   "source": [
    "df_final"
   ]
  },
  {
   "cell_type": "code",
   "execution_count": 45,
   "metadata": {},
   "outputs": [],
   "source": [
    "from sklearn.metrics import accuracy_score,f1_score,recall_score,precision_score"
   ]
  },
  {
   "cell_type": "code",
   "execution_count": 46,
   "metadata": {},
   "outputs": [
    {
     "data": {
      "text/plain": [
       "0.6962411107348458"
      ]
     },
     "execution_count": 46,
     "metadata": {},
     "output_type": "execute_result"
    }
   ],
   "source": [
    "f1_score(df_final.gold,df_final.predict_label)"
   ]
  },
  {
   "cell_type": "code",
   "execution_count": 47,
   "metadata": {},
   "outputs": [
    {
     "data": {
      "text/plain": [
       "0.6936572199730094"
      ]
     },
     "execution_count": 47,
     "metadata": {},
     "output_type": "execute_result"
    }
   ],
   "source": [
    "precision_score(df_final.gold,df_final.predict_label)"
   ]
  },
  {
   "cell_type": "code",
   "execution_count": 48,
   "metadata": {},
   "outputs": [
    {
     "data": {
      "text/plain": [
       "0.698844323589395"
      ]
     },
     "execution_count": 48,
     "metadata": {},
     "output_type": "execute_result"
    }
   ],
   "source": [
    "recall_score(df_final.gold,df_final.predict_label)"
   ]
  },
  {
   "cell_type": "code",
   "execution_count": 49,
   "metadata": {},
   "outputs": [],
   "source": [
    "# f1_score(df_final.gold,df_final.distance_label)"
   ]
  },
  {
   "cell_type": "code",
   "execution_count": 50,
   "metadata": {},
   "outputs": [],
   "source": [
    "# precision_score(df_final.gold,df_final.distance_label)"
   ]
  },
  {
   "cell_type": "code",
   "execution_count": 51,
   "metadata": {},
   "outputs": [],
   "source": [
    "# recall_score(df_final.gold,df_final.distance_label)"
   ]
  },
  {
   "cell_type": "code",
   "execution_count": 52,
   "metadata": {},
   "outputs": [
    {
     "data": {
      "text/plain": [
       "array([1.41072685, 2.72655345, 3.9238805 , 4.94601505, 5.8205108 ,\n",
       "       6.468594  , 6.9764602 , 7.3613918 , 7.84327645])"
      ]
     },
     "execution_count": 52,
     "metadata": {},
     "output_type": "execute_result"
    }
   ],
   "source": [
    "percentile = np.percentile(abs(df_final.undermine_score-df_final.support_score), (10,20,30,40,50,60,70,80,90), interpolation='midpoint')\n",
    "percentile"
   ]
  },
  {
   "cell_type": "code",
   "execution_count": 53,
   "metadata": {},
   "outputs": [
    {
     "data": {
      "text/plain": [
       "7.3613918"
      ]
     },
     "execution_count": 53,
     "metadata": {},
     "output_type": "execute_result"
    }
   ],
   "source": [
    "percentile[7]"
   ]
  },
  {
   "cell_type": "code",
   "execution_count": 73,
   "metadata": {},
   "outputs": [],
   "source": [
    "df_final_threshold = df_final[abs(df_final.undermine_score-df_final.support_score)>percentile[8]]\n",
    "# df_final_threshold = df_final[abs(df_final.cp_distance-df_final.cop_distance)>0]"
   ]
  },
  {
   "cell_type": "code",
   "execution_count": 55,
   "metadata": {},
   "outputs": [
    {
     "data": {
      "text/html": [
       "<div>\n",
       "<style scoped>\n",
       "    .dataframe tbody tr th:only-of-type {\n",
       "        vertical-align: middle;\n",
       "    }\n",
       "\n",
       "    .dataframe tbody tr th {\n",
       "        vertical-align: top;\n",
       "    }\n",
       "\n",
       "    .dataframe thead th {\n",
       "        text-align: right;\n",
       "    }\n",
       "</style>\n",
       "<table border=\"1\" class=\"dataframe\">\n",
       "  <thead>\n",
       "    <tr style=\"text-align: right;\">\n",
       "      <th></th>\n",
       "      <th>undermine_score</th>\n",
       "      <th>support_score</th>\n",
       "      <th>predict_label</th>\n",
       "      <th>gold</th>\n",
       "    </tr>\n",
       "  </thead>\n",
       "  <tbody>\n",
       "    <tr>\n",
       "      <th>0</th>\n",
       "      <td>-1.406277</td>\n",
       "      <td>1.681480</td>\n",
       "      <td>1</td>\n",
       "      <td>1</td>\n",
       "    </tr>\n",
       "    <tr>\n",
       "      <th>1</th>\n",
       "      <td>-1.568123</td>\n",
       "      <td>2.129677</td>\n",
       "      <td>1</td>\n",
       "      <td>0</td>\n",
       "    </tr>\n",
       "    <tr>\n",
       "      <th>2</th>\n",
       "      <td>-2.825778</td>\n",
       "      <td>3.542665</td>\n",
       "      <td>1</td>\n",
       "      <td>1</td>\n",
       "    </tr>\n",
       "    <tr>\n",
       "      <th>3</th>\n",
       "      <td>-1.605859</td>\n",
       "      <td>1.971612</td>\n",
       "      <td>1</td>\n",
       "      <td>1</td>\n",
       "    </tr>\n",
       "    <tr>\n",
       "      <th>4</th>\n",
       "      <td>-1.932156</td>\n",
       "      <td>2.379100</td>\n",
       "      <td>1</td>\n",
       "      <td>1</td>\n",
       "    </tr>\n",
       "    <tr>\n",
       "      <th>...</th>\n",
       "      <td>...</td>\n",
       "      <td>...</td>\n",
       "      <td>...</td>\n",
       "      <td>...</td>\n",
       "    </tr>\n",
       "    <tr>\n",
       "      <th>2767</th>\n",
       "      <td>2.430949</td>\n",
       "      <td>-2.300661</td>\n",
       "      <td>0</td>\n",
       "      <td>0</td>\n",
       "    </tr>\n",
       "    <tr>\n",
       "      <th>2769</th>\n",
       "      <td>-2.317768</td>\n",
       "      <td>2.754284</td>\n",
       "      <td>1</td>\n",
       "      <td>0</td>\n",
       "    </tr>\n",
       "    <tr>\n",
       "      <th>2770</th>\n",
       "      <td>4.150797</td>\n",
       "      <td>-4.363125</td>\n",
       "      <td>0</td>\n",
       "      <td>1</td>\n",
       "    </tr>\n",
       "    <tr>\n",
       "      <th>2771</th>\n",
       "      <td>4.253913</td>\n",
       "      <td>-4.182820</td>\n",
       "      <td>0</td>\n",
       "      <td>1</td>\n",
       "    </tr>\n",
       "    <tr>\n",
       "      <th>2772</th>\n",
       "      <td>1.890408</td>\n",
       "      <td>-1.864657</td>\n",
       "      <td>0</td>\n",
       "      <td>1</td>\n",
       "    </tr>\n",
       "  </tbody>\n",
       "</table>\n",
       "<p>2495 rows × 4 columns</p>\n",
       "</div>"
      ],
      "text/plain": [
       "      undermine_score  support_score  predict_label  gold\n",
       "0           -1.406277       1.681480              1     1\n",
       "1           -1.568123       2.129677              1     0\n",
       "2           -2.825778       3.542665              1     1\n",
       "3           -1.605859       1.971612              1     1\n",
       "4           -1.932156       2.379100              1     1\n",
       "...               ...            ...            ...   ...\n",
       "2767         2.430949      -2.300661              0     0\n",
       "2769        -2.317768       2.754284              1     0\n",
       "2770         4.150797      -4.363125              0     1\n",
       "2771         4.253913      -4.182820              0     1\n",
       "2772         1.890408      -1.864657              0     1\n",
       "\n",
       "[2495 rows x 4 columns]"
      ]
     },
     "execution_count": 55,
     "metadata": {},
     "output_type": "execute_result"
    }
   ],
   "source": [
    "df_final_threshold"
   ]
  },
  {
   "cell_type": "code",
   "execution_count": 71,
   "metadata": {},
   "outputs": [],
   "source": [
    "# print(f1_score(df_final_threshold.gold,df_final_threshold.distance_label),\n",
    "# precision_score(df_final_threshold.gold,df_final_threshold.distance_label),\n",
    "# recall_score(df_final_threshold.gold,df_final_threshold.distance_label))"
   ]
  },
  {
   "cell_type": "code",
   "execution_count": 56,
   "metadata": {},
   "outputs": [
    {
     "name": "stdout",
     "output_type": "stream",
     "text": [
      "0.7194029850746269 0.724267468069121 0.7146034099332839\n"
     ]
    }
   ],
   "source": [
    "print(f1_score(df_final_threshold.gold,df_final_threshold.predict_label),\n",
    "precision_score(df_final_threshold.gold,df_final_threshold.predict_label),\n",
    "recall_score(df_final_threshold.gold,df_final_threshold.predict_label))"
   ]
  },
  {
   "cell_type": "code",
   "execution_count": 59,
   "metadata": {},
   "outputs": [
    {
     "name": "stdout",
     "output_type": "stream",
     "text": [
      "0.7398066414459857 0.7470288624787776 0.7327227310574521\n"
     ]
    }
   ],
   "source": [
    "print(f1_score(df_final_threshold.gold,df_final_threshold.predict_label),\n",
    "precision_score(df_final_threshold.gold,df_final_threshold.predict_label),\n",
    "recall_score(df_final_threshold.gold,df_final_threshold.predict_label))"
   ]
  },
  {
   "cell_type": "code",
   "execution_count": 62,
   "metadata": {},
   "outputs": [
    {
     "name": "stdout",
     "output_type": "stream",
     "text": [
      "0.764367816091954 0.7785365853658537 0.7507055503292568\n"
     ]
    }
   ],
   "source": [
    "print(f1_score(df_final_threshold.gold,df_final_threshold.predict_label),\n",
    "precision_score(df_final_threshold.gold,df_final_threshold.predict_label),\n",
    "recall_score(df_final_threshold.gold,df_final_threshold.predict_label))"
   ]
  },
  {
   "cell_type": "code",
   "execution_count": 64,
   "metadata": {},
   "outputs": [
    {
     "name": "stdout",
     "output_type": "stream",
     "text": [
      "0.7839819514946419 0.8081395348837209 0.7612267250821467\n"
     ]
    }
   ],
   "source": [
    "print(f1_score(df_final_threshold.gold,df_final_threshold.predict_label),\n",
    "precision_score(df_final_threshold.gold,df_final_threshold.predict_label),\n",
    "recall_score(df_final_threshold.gold,df_final_threshold.predict_label))"
   ]
  },
  {
   "cell_type": "code",
   "execution_count": 66,
   "metadata": {},
   "outputs": [
    {
     "name": "stdout",
     "output_type": "stream",
     "text": [
      "0.8060731538992408 0.8390804597701149 0.7755644090305445\n"
     ]
    }
   ],
   "source": [
    "print(f1_score(df_final_threshold.gold,df_final_threshold.predict_label),\n",
    "precision_score(df_final_threshold.gold,df_final_threshold.predict_label),\n",
    "recall_score(df_final_threshold.gold,df_final_threshold.predict_label))"
   ]
  },
  {
   "cell_type": "code",
   "execution_count": 68,
   "metadata": {},
   "outputs": [
    {
     "name": "stdout",
     "output_type": "stream",
     "text": [
      "0.8150873965041399 0.878968253968254 0.7598627787307033\n"
     ]
    }
   ],
   "source": [
    "print(f1_score(df_final_threshold.gold,df_final_threshold.predict_label),\n",
    "precision_score(df_final_threshold.gold,df_final_threshold.predict_label),\n",
    "recall_score(df_final_threshold.gold,df_final_threshold.predict_label))"
   ]
  },
  {
   "cell_type": "code",
   "execution_count": 70,
   "metadata": {},
   "outputs": [
    {
     "name": "stdout",
     "output_type": "stream",
     "text": [
      "0.7789165446559299 0.8721311475409836 0.7037037037037037 0.8185096153846154\n"
     ]
    }
   ],
   "source": [
    "print(f1_score(df_final_threshold.gold,df_final_threshold.predict_label),\n",
    "precision_score(df_final_threshold.gold,df_final_threshold.predict_label),\n",
    "recall_score(df_final_threshold.gold,df_final_threshold.predict_label),\n",
    "accuracy_score(df_final_threshold.gold,df_final_threshold.predict_label))"
   ]
  },
  {
   "cell_type": "code",
   "execution_count": 72,
   "metadata": {},
   "outputs": [
    {
     "name": "stdout",
     "output_type": "stream",
     "text": [
      "0.6710097719869706 0.8803418803418803 0.5421052631578948 0.818018018018018\n"
     ]
    }
   ],
   "source": [
    "print(f1_score(df_final_threshold.gold,df_final_threshold.predict_label),\n",
    "precision_score(df_final_threshold.gold,df_final_threshold.predict_label),\n",
    "recall_score(df_final_threshold.gold,df_final_threshold.predict_label),\n",
    "accuracy_score(df_final_threshold.gold,df_final_threshold.predict_label))\n"
   ]
  },
  {
   "cell_type": "code",
   "execution_count": 74,
   "metadata": {},
   "outputs": [
    {
     "name": "stdout",
     "output_type": "stream",
     "text": [
      "0.07142857142857142 0.6666666666666666 0.03773584905660377 0.8129496402877698\n"
     ]
    }
   ],
   "source": [
    "print(f1_score(df_final_threshold.gold,df_final_threshold.predict_label),\n",
    "precision_score(df_final_threshold.gold,df_final_threshold.predict_label),\n",
    "recall_score(df_final_threshold.gold,df_final_threshold.predict_label),\n",
    "     accuracy_score(df_final_threshold.gold,df_final_threshold.predict_label))"
   ]
  },
  {
   "cell_type": "code",
   "execution_count": null,
   "metadata": {},
   "outputs": [],
   "source": []
  }
 ],
 "metadata": {
  "kernelspec": {
   "display_name": "TensorFlow-GPU",
   "language": "python",
   "name": "tf-gpu"
  },
  "language_info": {
   "codemirror_mode": {
    "name": "ipython",
    "version": 3
   },
   "file_extension": ".py",
   "mimetype": "text/x-python",
   "name": "python",
   "nbconvert_exporter": "python",
   "pygments_lexer": "ipython3",
   "version": "3.7.6"
  }
 },
 "nbformat": 4,
 "nbformat_minor": 2
}
